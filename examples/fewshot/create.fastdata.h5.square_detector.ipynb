{
 "cells": [
  {
   "cell_type": "code",
   "execution_count": null,
   "id": "92a2d465-7547-4a64-9ea8-f013892b1d9c",
   "metadata": {},
   "outputs": [],
   "source": [
    "!pwd"
   ]
  },
  {
   "cell_type": "code",
   "execution_count": null,
   "id": "669b1c38-add2-43c0-9b43-d8c785833f18",
   "metadata": {},
   "outputs": [],
   "source": [
    "# Load paths for using psana\n",
    "%env SIT_ROOT=/reg/g/psdm/\n",
    "%env SIT_DATA=/cds/group/psdm/data/\n",
    "%env SIT_PSDM_DATA=/cds/data/psdm/"
   ]
  },
  {
   "cell_type": "code",
   "execution_count": 1,
   "id": "49371397-98d1-47a1-ac43-460f4c27f673",
   "metadata": {},
   "outputs": [],
   "source": [
    "import numpy as np\n",
    "import os\n",
    "import h5py\n",
    "import random\n",
    "import pickle"
   ]
  },
  {
   "cell_type": "code",
   "execution_count": 2,
   "id": "30223f8b-b6b1-45a4-ad52-03c404239128",
   "metadata": {},
   "outputs": [],
   "source": [
    "import matplotlib              as mpl\n",
    "import matplotlib.pyplot       as plt\n",
    "import matplotlib.colors       as mcolors\n",
    "import matplotlib.patches      as mpatches\n",
    "import matplotlib.transforms   as mtransforms\n",
    "import matplotlib.font_manager as font_manager\n",
    "%matplotlib inline"
   ]
  },
  {
   "cell_type": "code",
   "execution_count": 3,
   "id": "f89ea6e4-7be9-4036-96d4-13353808e16c",
   "metadata": {},
   "outputs": [],
   "source": [
    "from deepprojection.plugins import PsanaImg\n",
    "from deepprojection.utils   import split_dataset, set_seed"
   ]
  },
  {
   "cell_type": "code",
   "execution_count": null,
   "id": "65ade851-ee64-463c-b9df-fa77511fc337",
   "metadata": {},
   "outputs": [],
   "source": [
    "exp           = 'amo06516'\n",
    "run           = '90'\n",
    "mode          = 'idx'\n",
    "detector_name = 'Camp.0:pnCCD.0'\n",
    "\n",
    "psana_img = PsanaImg( exp           = exp,\n",
    "                      run           = run,\n",
    "                      mode          = mode,\n",
    "                      detector_name = detector_name, )"
   ]
  },
  {
   "cell_type": "code",
   "execution_count": null,
   "id": "8a0e7da1-c730-417f-a0a5-7565cc47d250",
   "metadata": {},
   "outputs": [],
   "source": [
    "path_h5 = 'skopi/h5s.pnccd.6Q5U/6Q5U.4_hit.h5'\n",
    "# path_h5 = 'skopi/h5s.pnccd.5VFR/5VFR.4_hit.h5'\n",
    "# path_h5 = 'skopi/h5s.pnccd.5IJO/5IJO.1_hit.h5'\n",
    "# path_h5 = 'skopi/h5s.pnccd.3ZIF/3ZIF.2_hit.h5'"
   ]
  },
  {
   "cell_type": "code",
   "execution_count": null,
   "id": "65549c0e-1d3e-4f7d-a14f-47089f5df14c",
   "metadata": {},
   "outputs": [],
   "source": [
    "fh = h5py.File(path_h5, 'r')"
   ]
  },
  {
   "cell_type": "code",
   "execution_count": null,
   "id": "ab99db77-8469-48e7-9727-8a22fce48759",
   "metadata": {},
   "outputs": [],
   "source": [
    "orientation = fh.get('orientations')[0]\n",
    "orientation"
   ]
  },
  {
   "cell_type": "code",
   "execution_count": null,
   "id": "dc0f6226-bbe6-4c50-9f8e-b88a47dfcb65",
   "metadata": {},
   "outputs": [],
   "source": [
    "len(fh.get('photons'))"
   ]
  },
  {
   "cell_type": "code",
   "execution_count": null,
   "id": "7f06b170-549c-4f5a-a2d4-587c8f335426",
   "metadata": {},
   "outputs": [],
   "source": [
    "for i in [ random.randrange(0, len(fh.get('photons'))) for _ in range(20) ]:\n",
    "    data = fh.get('photons')[i]\n",
    "    img = psana_img.get(0, data)\n",
    "    plt.figure(figsize = (10, 8))\n",
    "    data = img\n",
    "    vmin = data.mean() - 0.4 * data.std()\n",
    "    vmax = data.mean() + 2.0 * data.std()\n",
    "    plt.imshow(data, vmin = vmin, vmax = vmax)\n",
    "    plt.colorbar()"
   ]
  },
  {
   "cell_type": "code",
   "execution_count": null,
   "id": "6e7bc1c8-2b97-4742-9843-7fb48fa5a32c",
   "metadata": {},
   "outputs": [],
   "source": [
    "fh.close()"
   ]
  },
  {
   "cell_type": "code",
   "execution_count": null,
   "id": "6d032707-3365-4c75-bd97-05c44a92eb86",
   "metadata": {},
   "outputs": [],
   "source": [
    "with h5py.File(path_h5, 'r') as fh:\n",
    "    for i in [ random.randrange(0, len(fh.get('photons'))) for _ in range(20) ]:\n",
    "        data = fh.get('photons')[i]\n",
    "        img = psana_img.get(0, data)\n",
    "        plt.figure(figsize = (10, 8))\n",
    "        data = img\n",
    "        vmin = data.mean() - 0.4 * data.std()\n",
    "        vmax = data.mean() + 2.0 * data.std()\n",
    "        plt.imshow(data, vmin = vmin, vmax = vmax)\n",
    "        plt.colorbar()"
   ]
  },
  {
   "cell_type": "code",
   "execution_count": null,
   "id": "0b7a289d-9a86-4b9e-bf4d-5dd55428c48e",
   "metadata": {},
   "outputs": [],
   "source": []
  },
  {
   "cell_type": "markdown",
   "id": "46ec31df-1e36-4fcb-8ddf-c3e7e6edac58",
   "metadata": {},
   "source": [
    "#### Create fastdata"
   ]
  },
  {
   "cell_type": "code",
   "execution_count": 4,
   "id": "69d37d00-ac03-438d-ae77-5efacb9071a2",
   "metadata": {},
   "outputs": [],
   "source": [
    "seed = 0\n",
    "random.seed(seed)"
   ]
  },
  {
   "cell_type": "code",
   "execution_count": 5,
   "id": "8814f058-4d2b-4553-b5c0-8d1992db8ace",
   "metadata": {},
   "outputs": [],
   "source": [
    "def create_path_label_list(pdb, drc):\n",
    "    path_label_list = []\n",
    "    for i in range(1, 4 + 1):\n",
    "        fl_h5   = f\"{pdb}.{i}_hit.h5\"\n",
    "        path_h5 = os.path.join(drc, fl_h5)\n",
    "        label   = (pdb, i)\n",
    "        path_label_list.append((path_h5, label))\n",
    "    \n",
    "    return path_label_list"
   ]
  },
  {
   "cell_type": "code",
   "execution_count": 6,
   "id": "2c446c02-6453-401e-bfb6-380d78a655fd",
   "metadata": {},
   "outputs": [
    {
     "data": {
      "text/plain": [
       "[('skopi/h5s_mini.sq/6Q5U.1_hit.h5', ('6Q5U', 1)),\n",
       " ('skopi/h5s_mini.sq/6Q5U.2_hit.h5', ('6Q5U', 2)),\n",
       " ('skopi/h5s_mini.sq/6Q5U.3_hit.h5', ('6Q5U', 3)),\n",
       " ('skopi/h5s_mini.sq/6Q5U.4_hit.h5', ('6Q5U', 4))]"
      ]
     },
     "execution_count": 6,
     "metadata": {},
     "output_type": "execute_result"
    }
   ],
   "source": [
    "drc = 'skopi/h5s_mini.sq'\n",
    "create_path_label_list(\"6Q5U\", drc)"
   ]
  },
  {
   "cell_type": "markdown",
   "id": "7a78e018-8cbd-4686-b024-d34521161039",
   "metadata": {},
   "source": [
    "#### Label corrected (This)"
   ]
  },
  {
   "cell_type": "code",
   "execution_count": 7,
   "id": "d9b72eb7-43ff-4874-ad29-0f5b67d6b8e7",
   "metadata": {},
   "outputs": [],
   "source": [
    "path_dat = 'skopi/pdb_num.dat'\n",
    "data = open(path_dat).readlines()\n",
    "pdb_size_dict = {}\n",
    "for d in data:\n",
    "    pdb, mol_size = d.strip().split()\n",
    "    pdb_size_dict[pdb] = int(mol_size)\n",
    "size_list = list(pdb_size_dict.values())\n",
    "size_nplist = np.array(size_list)\n",
    "hy, hx = np.histogram(size_nplist, bins = 50)\n",
    "size_pdb_dict = {}\n",
    "for enum_i, (size_min, size_max) in enumerate(zip(hx[:-1], hx[1:])):\n",
    "    size_pdb_dict[enum_i] = [ pdb for pdb, mol_size in pdb_size_dict.items() if size_min < mol_size < size_max ]"
   ]
  },
  {
   "cell_type": "code",
   "execution_count": 8,
   "id": "6a61f24c-eb37-4c45-bf28-2db5e6391f1e",
   "metadata": {},
   "outputs": [
    {
     "data": {
      "text/plain": [
       "dict_keys([0, 1, 2, 3, 4, 5, 6, 7, 8, 9, 10, 11, 12, 13, 14, 15, 16, 17, 18, 19, 20, 21, 22, 23, 24, 25, 26, 27, 28, 29, 30, 31, 32, 33, 34, 35, 36, 37, 38, 39, 40, 41, 42, 43, 44, 45, 46, 47, 48, 49])"
      ]
     },
     "execution_count": 8,
     "metadata": {},
     "output_type": "execute_result"
    }
   ],
   "source": [
    "size_pdb_dict.keys()    # number of buckets"
   ]
  },
  {
   "cell_type": "code",
   "execution_count": 9,
   "id": "7f2d2761-9360-4bd2-b829-e75f93881970",
   "metadata": {},
   "outputs": [
    {
     "data": {
      "text/plain": [
       "[(0, 5640),\n",
       " (1, 33),\n",
       " (2, 15),\n",
       " (3, 7),\n",
       " (4, 6),\n",
       " (5, 2),\n",
       " (6, 1),\n",
       " (7, 1),\n",
       " (8, 3),\n",
       " (9, 2),\n",
       " (10, 1),\n",
       " (11, 0),\n",
       " (12, 1),\n",
       " (13, 1),\n",
       " (14, 5),\n",
       " (15, 1),\n",
       " (16, 11),\n",
       " (17, 8),\n",
       " (18, 14),\n",
       " (19, 2),\n",
       " (20, 2),\n",
       " (21, 1),\n",
       " (22, 0),\n",
       " (23, 2),\n",
       " (24, 0),\n",
       " (25, 1),\n",
       " (26, 0),\n",
       " (27, 1),\n",
       " (28, 3),\n",
       " (29, 0),\n",
       " (30, 2),\n",
       " (31, 0),\n",
       " (32, 3),\n",
       " (33, 0),\n",
       " (34, 0),\n",
       " (35, 0),\n",
       " (36, 0),\n",
       " (37, 0),\n",
       " (38, 0),\n",
       " (39, 0),\n",
       " (40, 0),\n",
       " (41, 1),\n",
       " (42, 1),\n",
       " (43, 1),\n",
       " (44, 1),\n",
       " (45, 1),\n",
       " (46, 1),\n",
       " (47, 0),\n",
       " (48, 0),\n",
       " (49, 1)]"
      ]
     },
     "execution_count": 9,
     "metadata": {},
     "output_type": "execute_result"
    }
   ],
   "source": [
    "[ (key, len(val)) for key, val in size_pdb_dict.items()  ]"
   ]
  },
  {
   "cell_type": "code",
   "execution_count": 10,
   "id": "9fa35f61-ef1f-42a2-af87-51bb7a051bd9",
   "metadata": {},
   "outputs": [],
   "source": [
    "bucket = 18\n",
    "pdb_candidate_list = size_pdb_dict[bucket]\n",
    "num_pdb_for_test = 100\n",
    "num_pdb_for_test = min(len(pdb_candidate_list), num_pdb_for_test)\n",
    "pdb_list = random.sample(pdb_candidate_list, k = num_pdb_for_test)"
   ]
  },
  {
   "cell_type": "code",
   "execution_count": 11,
   "id": "70de4745-74d1-4664-8a6d-9a7bbe08f3b5",
   "metadata": {},
   "outputs": [],
   "source": [
    "for pdb in pdb_list:\n",
    "    data_per_pdb_list = []\n",
    "    path_label_list = create_path_label_list(pdb, drc)\n",
    "    mask = np.load('skopi/h5s_mini.sq/mask.npy')\n",
    "    for path_h5, label in path_label_list:\n",
    "        data_list = []\n",
    "        \n",
    "        # Correct label...\n",
    "        pdb, hit_type = label\n",
    "        hit_type = min(hit_type, 2)\n",
    "        label_corrected = (pdb, hit_type) \n",
    "        \n",
    "        with h5py.File(path_h5, 'r') as fh:     \n",
    "            for idx, img in enumerate(fh.get('photons')):\n",
    "                img = img * mask[None,]\n",
    "                # data_list.append((img[0], label, f\"{label[0]} {label[1]} {idx}\"))\n",
    "                data_list.append((img[0], label_corrected, f\"{label_corrected[0]} {label_corrected[1]}({label[1]}) {idx}\"))\n",
    "        data_per_pdb_list.extend(data_list)\n",
    "        \n",
    "    path_pickle = f'fastdata.h5/{pdb}.relabel.pickle'\n",
    "    with open(path_pickle, 'wb') as handle:\n",
    "        pickle.dump(data_per_pdb_list, handle, protocol=pickle.HIGHEST_PROTOCOL)"
   ]
  },
  {
   "cell_type": "code",
   "execution_count": null,
   "id": "e7f2fe0d-b4f7-4f16-ad85-0d23f44f8a91",
   "metadata": {},
   "outputs": [],
   "source": [
    "pdb_list.index('7EH1')"
   ]
  },
  {
   "cell_type": "code",
   "execution_count": null,
   "id": "b32116fa-7af8-41e6-afa8-56a14e67a684",
   "metadata": {},
   "outputs": [],
   "source": [
    "pdb_list"
   ]
  },
  {
   "cell_type": "code",
   "execution_count": null,
   "id": "1df483eb-6113-4bcb-a27c-e953e2740302",
   "metadata": {},
   "outputs": [],
   "source": [
    "path_pickle"
   ]
  },
  {
   "cell_type": "code",
   "execution_count": null,
   "id": "bb2be2eb-bf4a-4599-bb83-53254a642b8a",
   "metadata": {},
   "outputs": [],
   "source": [
    "global_data_list[99]"
   ]
  },
  {
   "cell_type": "markdown",
   "id": "becb9be3-0738-45da-90fc-b885e9537aa0",
   "metadata": {},
   "source": [
    "#### Create fastdata"
   ]
  },
  {
   "cell_type": "code",
   "execution_count": null,
   "id": "d3d53cfa-bd92-4205-afa3-ce854c227ca7",
   "metadata": {},
   "outputs": [],
   "source": [
    "seed = 0\n",
    "random.seed(seed)"
   ]
  },
  {
   "cell_type": "code",
   "execution_count": null,
   "id": "a257a6cd-a145-466b-bf64-7bea95d4d355",
   "metadata": {},
   "outputs": [],
   "source": [
    "hit_global_list = []"
   ]
  },
  {
   "cell_type": "code",
   "execution_count": null,
   "id": "2aad848e-d766-4f3b-9a62-4558f4b51597",
   "metadata": {},
   "outputs": [],
   "source": [
    "path_h5 = 'skopi/h5s.pnccd.6Q5U/6Q5U.1_hit.h5'\n",
    "num_hit = 200\n",
    "with h5py.File(path_h5, 'r') as fh:\n",
    "    hit_list = random.sample(range(len(fh.get('photons'))), num_hit)\n",
    "    hit_global_list.extend([ psana_img.get(0, fh.get('photons')[hit_idx]) for hit_idx in hit_list])"
   ]
  },
  {
   "cell_type": "code",
   "execution_count": null,
   "id": "4bd05eb7-d310-43ef-9616-3e776f065657",
   "metadata": {},
   "outputs": [],
   "source": [
    "path_h5_list = [ ('skopi/h5s.pnccd.6Q5U/6Q5U.1_hit.h5', 1, 180),\n",
    "                 ('skopi/h5s.pnccd.6Q5U/6Q5U.2_hit.h5', 2, 60),\n",
    "                 ('skopi/h5s.pnccd.6Q5U/6Q5U.3_hit.h5', 2, 60),\n",
    "                 ('skopi/h5s.pnccd.6Q5U/6Q5U.4_hit.h5', 2, 60), ]\n",
    "# num_hit = 200\n",
    "hit_global_list = []\n",
    "for path_h5, label, num_hit in path_h5_list:\n",
    "    with h5py.File(path_h5, 'r') as fh:\n",
    "        hit_list = random.sample(range(len(fh.get('photons'))), num_hit)\n",
    "        hit_global_list.extend([ (psana_img.get(0, fh.get('photons')[hit_idx]), label, (path_h5, str(hit_idx), str(label))) for hit_idx in hit_list])"
   ]
  },
  {
   "cell_type": "code",
   "execution_count": null,
   "id": "9a3289c8-9e41-4d00-abe3-b122da1dafda",
   "metadata": {},
   "outputs": [],
   "source": [
    "import pickle\n",
    "path_pickle = 'fastdata.h5/6Q5U.pnccd.pickle'\n",
    "with open(path_pickle, 'wb') as handle:\n",
    "    pickle.dump(hit_global_list, handle, protocol=pickle.HIGHEST_PROTOCOL)"
   ]
  },
  {
   "cell_type": "code",
   "execution_count": null,
   "id": "ec8a40fe-7433-4fdd-af4a-b80820e69451",
   "metadata": {},
   "outputs": [],
   "source": [
    "hit_global_list[0]"
   ]
  },
  {
   "cell_type": "markdown",
   "id": "ed0ade41-4713-4a24-ac86-99ebed93cee5",
   "metadata": {},
   "source": [
    "#### Create fastdata"
   ]
  },
  {
   "cell_type": "code",
   "execution_count": null,
   "id": "ca2a67ff-cff9-41a3-89dc-87dada8c6f18",
   "metadata": {},
   "outputs": [],
   "source": [
    "seed = 0\n",
    "random.seed(seed)"
   ]
  },
  {
   "cell_type": "code",
   "execution_count": null,
   "id": "4d5d32c2-2511-491f-af0e-8e156879bb4f",
   "metadata": {},
   "outputs": [],
   "source": [
    "hit_global_list = []"
   ]
  },
  {
   "cell_type": "code",
   "execution_count": null,
   "id": "3a214563-1f6e-4a65-823d-12c3faa79a7d",
   "metadata": {},
   "outputs": [],
   "source": [
    "path_h5 = 'skopi/h5s.pnccd.3ZIF/3ZIF.1_hit.h5'\n",
    "num_hit = 200\n",
    "with h5py.File(path_h5, 'r') as fh:\n",
    "    hit_list = random.sample(range(len(fh.get('photons'))), num_hit)\n",
    "    hit_global_list.extend([ psana_img.get(0, fh.get('photons')[hit_idx]) for hit_idx in hit_list])"
   ]
  },
  {
   "cell_type": "code",
   "execution_count": null,
   "id": "2171957b-4e39-42ef-b8da-bf7664b96795",
   "metadata": {},
   "outputs": [],
   "source": [
    "path_h5_list = [ ('skopi/h5s.pnccd.3ZIF/3ZIF.1_hit.h5', 1, 180),\n",
    "                 ('skopi/h5s.pnccd.3ZIF/3ZIF.2_hit.h5', 2, 60),\n",
    "                 ('skopi/h5s.pnccd.3ZIF/3ZIF.3_hit.h5', 2, 60),\n",
    "                 ('skopi/h5s.pnccd.3ZIF/3ZIF.4_hit.h5', 2, 60), ]\n",
    "# num_hit = 200\n",
    "hit_global_list = []\n",
    "for path_h5, label, num_hit in path_h5_list:\n",
    "    with h5py.File(path_h5, 'r') as fh:\n",
    "        hit_list = random.sample(range(len(fh.get('photons'))), num_hit)\n",
    "        hit_global_list.extend([ (psana_img.get(0, fh.get('photons')[hit_idx]), label, (path_h5, str(hit_idx), str(label))) for hit_idx in hit_list])"
   ]
  },
  {
   "cell_type": "code",
   "execution_count": null,
   "id": "7dc9b723-c41a-45dc-ac7f-0ff3e36421c6",
   "metadata": {},
   "outputs": [],
   "source": [
    "import pickle\n",
    "path_pickle = 'fastdata.h5/3ZIF.pnccd.pickle'\n",
    "with open(path_pickle, 'wb') as handle:\n",
    "    pickle.dump(hit_global_list, handle, protocol=pickle.HIGHEST_PROTOCOL)"
   ]
  },
  {
   "cell_type": "markdown",
   "id": "2e2123b2-17cf-4240-ac25-50d892a6e26e",
   "metadata": {},
   "source": [
    "#### Create fastdata"
   ]
  },
  {
   "cell_type": "code",
   "execution_count": null,
   "id": "ba703193-c7e5-458e-972e-bae4a1281faa",
   "metadata": {},
   "outputs": [],
   "source": [
    "seed = 0\n",
    "random.seed(seed)"
   ]
  },
  {
   "cell_type": "code",
   "execution_count": null,
   "id": "7bfec5f9-5579-4942-a297-f6577380a4d3",
   "metadata": {},
   "outputs": [],
   "source": [
    "hit_global_list = []"
   ]
  },
  {
   "cell_type": "code",
   "execution_count": null,
   "id": "eabc627f-f010-4e1d-9057-46a12acae2dc",
   "metadata": {},
   "outputs": [],
   "source": [
    "path_h5 = 'skopi/h5s.pnccd.5IJO/5IJO.1_hit.h5'\n",
    "num_hit = 200\n",
    "with h5py.File(path_h5, 'r') as fh:\n",
    "    hit_list = random.sample(range(len(fh.get('photons'))), num_hit)\n",
    "    hit_global_list.extend([ psana_img.get(0, fh.get('photons')[hit_idx]) for hit_idx in hit_list])"
   ]
  },
  {
   "cell_type": "code",
   "execution_count": null,
   "id": "eb3d498c-bce1-4765-a7de-606ae6d0edd9",
   "metadata": {},
   "outputs": [],
   "source": [
    "path_h5_list = [ ('skopi/h5s.pnccd.5IJO/5IJO.1_hit.h5', 1, 180),\n",
    "                 ('skopi/h5s.pnccd.5IJO/5IJO.2_hit.h5', 2, 60),\n",
    "                 ('skopi/h5s.pnccd.5IJO/5IJO.3_hit.h5', 2, 60),\n",
    "                 ('skopi/h5s.pnccd.5IJO/5IJO.4_hit.h5', 2, 60), ]\n",
    "# num_hit = 200\n",
    "hit_global_list = []\n",
    "for path_h5, label, num_hit in path_h5_list:\n",
    "    with h5py.File(path_h5, 'r') as fh:\n",
    "        hit_list = random.sample(range(len(fh.get('photons'))), num_hit)\n",
    "        hit_global_list.extend([ (psana_img.get(0, fh.get('photons')[hit_idx]), label, (path_h5, str(hit_idx), str(label))) for hit_idx in hit_list])"
   ]
  },
  {
   "cell_type": "code",
   "execution_count": null,
   "id": "f7936321-e60e-4b90-9d47-1afdc56e8fbe",
   "metadata": {},
   "outputs": [],
   "source": [
    "import pickle\n",
    "path_pickle = 'fastdata.h5/5IJO.pnccd.pickle'\n",
    "with open(path_pickle, 'wb') as handle:\n",
    "    pickle.dump(hit_global_list, handle, protocol=pickle.HIGHEST_PROTOCOL)"
   ]
  },
  {
   "cell_type": "markdown",
   "id": "a32588db-ded8-4660-9e77-ffa585527600",
   "metadata": {},
   "source": [
    "#### Create fastdata"
   ]
  },
  {
   "cell_type": "code",
   "execution_count": null,
   "id": "3342c799-a198-4ff8-beeb-ad968d108e9f",
   "metadata": {},
   "outputs": [],
   "source": [
    "seed = 0\n",
    "random.seed(seed)"
   ]
  },
  {
   "cell_type": "code",
   "execution_count": null,
   "id": "305b6162-d5d8-4e3e-8ace-02012dea29e2",
   "metadata": {},
   "outputs": [],
   "source": [
    "hit_global_list = []"
   ]
  },
  {
   "cell_type": "code",
   "execution_count": null,
   "id": "3df90e4c-3d2f-450e-a8d9-2bdc5a6b7a6f",
   "metadata": {},
   "outputs": [],
   "source": [
    "path_h5 = 'skopi/h5s.pnccd.5IJO/5IJO.1_hit.h5'\n",
    "num_hit = 200\n",
    "with h5py.File(path_h5, 'r') as fh:\n",
    "    hit_list = random.sample(range(len(fh.get('photons'))), num_hit)\n",
    "    hit_global_list.extend([ psana_img.get(0, fh.get('photons')[hit_idx]) for hit_idx in hit_list])"
   ]
  },
  {
   "cell_type": "code",
   "execution_count": null,
   "id": "89ae26df-b883-4f3f-9cd2-b6ff48f31fcf",
   "metadata": {},
   "outputs": [],
   "source": [
    "path_h5_list = [ ('skopi/h5s.pnccd.5VFR/5VFR.1_hit.h5', 1, 180),\n",
    "                 ('skopi/h5s.pnccd.5VFR/5VFR.2_hit.h5', 2, 60),\n",
    "                 ('skopi/h5s.pnccd.5VFR/5VFR.3_hit.h5', 2, 60),\n",
    "                 ('skopi/h5s.pnccd.5VFR/5VFR.4_hit.h5', 2, 60), ]\n",
    "# num_hit = 200\n",
    "hit_global_list = []\n",
    "for path_h5, label, num_hit in path_h5_list:\n",
    "    with h5py.File(path_h5, 'r') as fh:\n",
    "        hit_list = random.sample(range(len(fh.get('photons'))), num_hit)\n",
    "        hit_global_list.extend([ (psana_img.get(0, fh.get('photons')[hit_idx]), label, (path_h5, str(hit_idx), str(label))) for hit_idx in hit_list])"
   ]
  },
  {
   "cell_type": "code",
   "execution_count": null,
   "id": "c8aeb8d8-782b-42f2-94b4-3a7d6c822a23",
   "metadata": {},
   "outputs": [],
   "source": [
    "import pickle\n",
    "path_pickle = 'fastdata.h5/5VFR.pnccd.pickle'\n",
    "with open(path_pickle, 'wb') as handle:\n",
    "    pickle.dump(hit_global_list, handle, protocol=pickle.HIGHEST_PROTOCOL)"
   ]
  },
  {
   "cell_type": "markdown",
   "id": "6de87685-1cb4-44ff-812a-63ad93d312c8",
   "metadata": {},
   "source": [
    "#### "
   ]
  },
  {
   "cell_type": "code",
   "execution_count": null,
   "id": "3c250431-542f-4f39-ba5f-376ea4b37239",
   "metadata": {},
   "outputs": [],
   "source": [
    "2305 / 4"
   ]
  },
  {
   "cell_type": "markdown",
   "id": "de16432c-cf78-4a4f-b5ce-7bb39d59a942",
   "metadata": {},
   "source": [
    "#### Square detector"
   ]
  },
  {
   "cell_type": "code",
   "execution_count": null,
   "id": "63beb6d3-ebb4-4ca1-926c-1eca711f966c",
   "metadata": {},
   "outputs": [],
   "source": [
    "import "
   ]
  },
  {
   "cell_type": "code",
   "execution_count": null,
   "id": "a4214c9f-0f8d-482e-9555-283a5f8bd81a",
   "metadata": {},
   "outputs": [],
   "source": [
    "path_h5 = 'skopi/h5s_mini.sq/6Q5U.2_hit.h5'"
   ]
  },
  {
   "cell_type": "code",
   "execution_count": null,
   "id": "e5fbfbb5-d883-4db8-a75f-87a287b837fc",
   "metadata": {},
   "outputs": [],
   "source": [
    "fh = h5py.File(path_h5, 'r')"
   ]
  },
  {
   "cell_type": "code",
   "execution_count": null,
   "id": "2fa30b92-9989-45fd-8936-b3ab3d054988",
   "metadata": {},
   "outputs": [],
   "source": [
    "orientation = fh.get('orientations')[0]\n",
    "orientation"
   ]
  },
  {
   "cell_type": "code",
   "execution_count": null,
   "id": "a29db9c0-bc0e-4e55-88f7-55807e0aa2da",
   "metadata": {},
   "outputs": [],
   "source": [
    "for i in [ random.randrange(0, len(fh.get('photons'))) for _ in range(20) ]:\n",
    "    data = fh.get('photons')[i]\n",
    "    img  = data[0]\n",
    "    ## img = psana_img.get(0, data)\n",
    "    plt.figure(figsize = (10, 8))\n",
    "    data = img\n",
    "    vmin = data.mean() - 0.4 * data.std()\n",
    "    vmax = data.mean() + 2.0 * data.std()\n",
    "    plt.imshow(data, vmin = vmin, vmax = vmax)\n",
    "    plt.colorbar()"
   ]
  },
  {
   "cell_type": "code",
   "execution_count": null,
   "id": "594cd5f5-40e7-4c6c-814c-7acce34315f5",
   "metadata": {},
   "outputs": [],
   "source": [
    "data.shape"
   ]
  },
  {
   "cell_type": "code",
   "execution_count": null,
   "id": "79de219c-d70e-4a3c-bff3-e141951dfffe",
   "metadata": {},
   "outputs": [],
   "source": [
    "172 // 2"
   ]
  },
  {
   "cell_type": "code",
   "execution_count": null,
   "id": "c3e4a740-f6d0-4550-b6d1-9a29277bd68b",
   "metadata": {},
   "outputs": [],
   "source": [
    "data = fh.get('photons')[0][0]\n",
    "mask = np.ones(data.shape, dtype = np.float32)\n",
    "size_y, size_x = mask.shape\n",
    "yc = size_y // 2\n",
    "xc = size_x // 2\n",
    "\n",
    "dy = 172\n",
    "dx = 4\n",
    "y_min = yc - dy // 2\n",
    "y_max = yc + dy // 2\n",
    "x_min = xc - dx // 2\n",
    "x_max = xc + dx // 2\n",
    "mask[y_min:y_max, x_min:x_max] = 0\n",
    "\n",
    "dy = 6\n",
    "dx = 8\n",
    "y_min = yc - dy // 2\n",
    "y_max = yc + dy // 2\n",
    "x_min = xc - dx // 2\n",
    "x_max = xc + dx // 2\n",
    "mask[y_min:y_max, x_min:x_max] = 0"
   ]
  },
  {
   "cell_type": "code",
   "execution_count": null,
   "id": "99749681-42d5-42a5-8a04-9acdbb79c058",
   "metadata": {},
   "outputs": [],
   "source": [
    "mask.shape"
   ]
  },
  {
   "cell_type": "code",
   "execution_count": null,
   "id": "af167565-9c86-48b2-b786-a65eab7d439e",
   "metadata": {},
   "outputs": [],
   "source": [
    "fl_mask = 'mask.npy'\n",
    "drc_mask  = 'skopi/h5s_mini.sq'\n",
    "path_mask = os.path.join(drc_mask, fl_mask)\n",
    "np.save(path_mask, mask)"
   ]
  },
  {
   "cell_type": "code",
   "execution_count": null,
   "id": "3cd43c92-cf49-40cb-890f-3f9f62ae416c",
   "metadata": {},
   "outputs": [],
   "source": [
    "img = mask\n",
    "## img = psana_img.get(0, data)\n",
    "plt.figure(figsize = (10, 8))\n",
    "data = img\n",
    "vmin = data.mean() - 0.4 * data.std()\n",
    "vmax = data.mean() + 1.0 * data.std()\n",
    "plt.imshow(data, vmin = vmin, vmax = vmax)\n",
    "plt.colorbar()"
   ]
  },
  {
   "cell_type": "code",
   "execution_count": null,
   "id": "11e0b675-92de-44eb-974e-8cc99f84c7e4",
   "metadata": {},
   "outputs": [],
   "source": [
    "data = fh.get('photons')[i]\n",
    "img  = data[0]"
   ]
  },
  {
   "cell_type": "code",
   "execution_count": null,
   "id": "6f19e88d-7c4b-4312-94b5-7fc111a4db04",
   "metadata": {},
   "outputs": [],
   "source": [
    "plt.figure(figsize = (10, 8))\n",
    "# img = img * mask\n",
    "vmin = 0\n",
    "vmax = img.mean() + 0.01 * img.std()\n",
    "plt.imshow(img, vmin = 0, vmax = 4)\n",
    "plt.colorbar()"
   ]
  },
  {
   "cell_type": "code",
   "execution_count": null,
   "id": "de9d20c6-efef-45c5-9551-37f703031006",
   "metadata": {},
   "outputs": [],
   "source": [
    "plt.figure(figsize = (10, 8))\n",
    "img = img * mask\n",
    "vmin = img.mean() - 0.0 * img.std()\n",
    "vmax = img.mean() + 0.4 * img.std()\n",
    "plt.imshow(img, vmin = 0, vmax = 4)\n",
    "plt.colorbar()"
   ]
  },
  {
   "cell_type": "code",
   "execution_count": null,
   "id": "09040cbd-6f33-4192-b4ec-2a1ea043a8f2",
   "metadata": {},
   "outputs": [],
   "source": [
    "from scipy.stats import gamma"
   ]
  },
  {
   "cell_type": "code",
   "execution_count": null,
   "id": "587aff21-d425-4548-8134-2251ea26adfc",
   "metadata": {},
   "outputs": [],
   "source": [
    "shape, scale = 1., 1.\n",
    "s = np.random.gamma(shape, scale, 1000)\n",
    "s\n",
    "plt.hist(s)"
   ]
  },
  {
   "cell_type": "code",
   "execution_count": null,
   "id": "fb5de5bd-9e87-4def-8996-184ec542264d",
   "metadata": {},
   "outputs": [],
   "source": [
    "57 * 4 / 1000"
   ]
  },
  {
   "cell_type": "code",
   "execution_count": null,
   "id": "237fc750-11f8-4a32-ac24-6a1303620b8e",
   "metadata": {},
   "outputs": [],
   "source": [
    "img.shape, mask.shape"
   ]
  },
  {
   "cell_type": "code",
   "execution_count": null,
   "id": "7abf4d23-42b2-454f-83f9-6fe8b1e88e27",
   "metadata": {},
   "outputs": [],
   "source": [
    "for i in [ random.randrange(0, len(fh.get('photons'))) for _ in range(20) ]:\n",
    "    data = fh.get('photons')[i]\n",
    "    img  = data[0]\n",
    "    ## img = psana_img.get(0, data)\n",
    "    plt.figure(figsize = (10, 8))\n",
    "    img = img * mask\n",
    "    vmin = img.mean() - 0.5 * img.std()\n",
    "    vmax = img.mean() + 1.0 * img.std()\n",
    "    plt.imshow(img, vmin = vmin, vmax = vmax)\n",
    "    plt.colorbar()\n",
    "    # plt.xlim(172//2 - 40, 127//2 + 40)"
   ]
  },
  {
   "cell_type": "code",
   "execution_count": null,
   "id": "bc41952a-c8a3-4e4d-a719-9eb2ede35ad8",
   "metadata": {},
   "outputs": [],
   "source": [
    "img.shape"
   ]
  },
  {
   "cell_type": "code",
   "execution_count": null,
   "id": "225439dd-65e5-4298-9706-04364a21e286",
   "metadata": {},
   "outputs": [],
   "source": [
    "fh.close()"
   ]
  },
  {
   "cell_type": "code",
   "execution_count": null,
   "id": "8f73604f-b7a6-4d5f-a6ef-33511aec4ecd",
   "metadata": {},
   "outputs": [],
   "source": []
  },
  {
   "cell_type": "markdown",
   "id": "9e9bc5c9-6fc9-48b6-9ddc-f89b2d1586af",
   "metadata": {},
   "source": [
    "#### Create fastdata (May)"
   ]
  },
  {
   "cell_type": "code",
   "execution_count": null,
   "id": "be8ff0db-d112-4077-b228-2a2fbc316172",
   "metadata": {},
   "outputs": [],
   "source": [
    "!pwd"
   ]
  },
  {
   "cell_type": "code",
   "execution_count": null,
   "id": "cd29547d-e9e9-4b47-a66d-3b7c57f0c8f8",
   "metadata": {},
   "outputs": [],
   "source": [
    "# Load paths for using psana\n",
    "%env SIT_ROOT=/reg/g/psdm/\n",
    "%env SIT_DATA=/cds/group/psdm/data/\n",
    "%env SIT_PSDM_DATA=/cds/data/psdm/"
   ]
  },
  {
   "cell_type": "code",
   "execution_count": null,
   "id": "e4bdae7a-3c8b-4826-a842-df45c4907ef9",
   "metadata": {},
   "outputs": [],
   "source": [
    "import numpy as np\n",
    "import os\n",
    "import h5py\n",
    "import random"
   ]
  },
  {
   "cell_type": "code",
   "execution_count": null,
   "id": "3c6c8e24-bbc7-4101-99f9-0dba2ba7b31b",
   "metadata": {},
   "outputs": [],
   "source": [
    "import matplotlib              as mpl\n",
    "import matplotlib.pyplot       as plt\n",
    "import matplotlib.colors       as mcolors\n",
    "import matplotlib.patches      as mpatches\n",
    "import matplotlib.transforms   as mtransforms\n",
    "import matplotlib.font_manager as font_manager\n",
    "%matplotlib inline"
   ]
  },
  {
   "cell_type": "code",
   "execution_count": null,
   "id": "a5d1f8a9-ebd6-48ea-af77-420594be7a15",
   "metadata": {},
   "outputs": [],
   "source": [
    "from deepprojection.plugins import PsanaImg\n",
    "from deepprojection.utils   import split_dataset, set_seed"
   ]
  },
  {
   "cell_type": "code",
   "execution_count": null,
   "id": "efe18ad4-a9de-4f97-9be7-0b3aeef3c2e9",
   "metadata": {},
   "outputs": [],
   "source": [
    "seed = 0\n",
    "random.seed(seed)"
   ]
  },
  {
   "cell_type": "code",
   "execution_count": null,
   "id": "017fed76-0dc8-41a9-87d6-08885f382cf9",
   "metadata": {},
   "outputs": [],
   "source": [
    "fl_dat = 'skopi/mini.dat'\n",
    "with open(fl_dat, 'r') as fh:\n",
    "    entry_list = [ line.strip() for line in fh.readlines() ]"
   ]
  },
  {
   "cell_type": "code",
   "execution_count": null,
   "id": "3e1d6119-38f0-45c6-94ce-048eb29d244b",
   "metadata": {},
   "outputs": [],
   "source": [
    "entry_list[0]"
   ]
  },
  {
   "cell_type": "code",
   "execution_count": null,
   "id": "5e3dd518-8496-4006-b728-98cebaba0b37",
   "metadata": {},
   "outputs": [],
   "source": [
    "train_set, hold_set = split_dataset(entry_list, 0.5)"
   ]
  },
  {
   "cell_type": "code",
   "execution_count": null,
   "id": "fb386a0a-f6ba-4cb6-9e75-fb643987c5e8",
   "metadata": {},
   "outputs": [],
   "source": [
    "train_set[-2]"
   ]
  },
  {
   "cell_type": "code",
   "execution_count": null,
   "id": "b91a2862-0957-4495-b430-f98dc1c7b8cd",
   "metadata": {},
   "outputs": [],
   "source": [
    "len(train_set), len(hold_set)"
   ]
  },
  {
   "cell_type": "code",
   "execution_count": null,
   "id": "4bb066a5-9871-496b-bb6e-a7f59819b4b2",
   "metadata": {},
   "outputs": [],
   "source": [
    "3027 * (57 * 4 / 1000)"
   ]
  },
  {
   "cell_type": "code",
   "execution_count": null,
   "id": "5eda91dd-1457-4056-a366-7fc478669658",
   "metadata": {},
   "outputs": [],
   "source": [
    "100 * (57 * 4 / 1000)"
   ]
  },
  {
   "cell_type": "code",
   "execution_count": null,
   "id": "07ecbfc0-0a81-401a-a720-dc33beeb8871",
   "metadata": {},
   "outputs": [],
   "source": [
    "train_set[:100]"
   ]
  },
  {
   "cell_type": "code",
   "execution_count": null,
   "id": "bfd8b1bb-efba-41ce-846a-e06cc8210c6f",
   "metadata": {},
   "outputs": [],
   "source": [
    "a = (\"6Q5U\", \"1_hit\")\n",
    "b = (\"6Q5U\", \"2_hit\")"
   ]
  },
  {
   "cell_type": "code",
   "execution_count": null,
   "id": "80ee5e2f-2f0e-415f-bddf-712dc56c9340",
   "metadata": {},
   "outputs": [],
   "source": [
    "a == b"
   ]
  },
  {
   "cell_type": "code",
   "execution_count": null,
   "id": "2f29f74a-4490-4699-8d03-e55727bf9a62",
   "metadata": {},
   "outputs": [],
   "source": [
    "(\"6Q5U\", \"1_hit\") == (\"6Q5U\", \"1_hit\")"
   ]
  },
  {
   "cell_type": "code",
   "execution_count": null,
   "id": "3dae3d29-6221-4ed1-b399-7c59089c78b5",
   "metadata": {},
   "outputs": [],
   "source": [
    "pdb_list = train_set[:100]"
   ]
  },
  {
   "cell_type": "code",
   "execution_count": null,
   "id": "20112fbc-6a31-49cf-9974-bcd3bbf1d898",
   "metadata": {},
   "outputs": [],
   "source": [
    "def create_path_label_list(pdb, drc):\n",
    "    path_label_list = []\n",
    "    for i in range(1, 4 + 1):\n",
    "        fl_h5   = f\"{pdb}.{i}_hit.h5\"\n",
    "        path_h5 = os.path.join(drc, fl_h5)\n",
    "        label   = (pdb, i)\n",
    "        path_label_list.append((path_h5, label))\n",
    "    \n",
    "    return path_label_list"
   ]
  },
  {
   "cell_type": "code",
   "execution_count": null,
   "id": "46bd87bc-6721-4d4e-bfff-d4546aa2e330",
   "metadata": {},
   "outputs": [],
   "source": [
    "drc = 'skopi/h5s_mini.sq'\n",
    "create_path_label_list(\"6Q5U\", drc)"
   ]
  },
  {
   "cell_type": "code",
   "execution_count": null,
   "id": "8bab836c-20e9-43a8-89b6-a431f006e9c9",
   "metadata": {},
   "outputs": [],
   "source": [
    "fh.get('photons').shape"
   ]
  },
  {
   "cell_type": "code",
   "execution_count": null,
   "id": "3d1eff9f-3812-4549-92e5-6a8e9b7a2cc2",
   "metadata": {},
   "outputs": [],
   "source": [
    "global_data_list = []\n",
    "for pdb in pdb_list:\n",
    "    path_label_list = create_path_label_list(pdb, drc)\n",
    "    mask = np.load('skopi/h5s_mini.sq/mask.npy')\n",
    "    for path_h5, label in path_label_list:\n",
    "        data_list = []\n",
    "        with h5py.File(path_h5, 'r') as fh:     \n",
    "            for idx, img in enumerate(fh.get('photons')):\n",
    "                img = img * mask[None,]\n",
    "                data_list.append((img[0], label, f\"{label[0]} {label[1]} {idx}\"))\n",
    "        global_data_list.extend(data_list)"
   ]
  },
  {
   "cell_type": "code",
   "execution_count": null,
   "id": "6a8ae33f-4146-44a1-9d69-9ee59cfcfd08",
   "metadata": {},
   "outputs": [],
   "source": [
    "import pickle\n",
    "path_pickle = 'fastdata.h5/mini.sq.pickle'\n",
    "with open(path_pickle, 'wb') as handle:\n",
    "    pickle.dump(global_data_list, handle, protocol=pickle.HIGHEST_PROTOCOL)"
   ]
  },
  {
   "cell_type": "code",
   "execution_count": null,
   "id": "2d30bf61-25fa-436d-a383-44eb0a262e28",
   "metadata": {},
   "outputs": [],
   "source": [
    "np.array(global_data_list).shape"
   ]
  },
  {
   "cell_type": "code",
   "execution_count": null,
   "id": "e92cf22b-df85-47b7-88e1-32bd917bbaf8",
   "metadata": {},
   "outputs": [],
   "source": [
    "global_data_list[40]"
   ]
  },
  {
   "cell_type": "code",
   "execution_count": null,
   "id": "8fb96ead-9346-4b99-9ece-0c262538f470",
   "metadata": {},
   "outputs": [],
   "source": [
    "img = global_data_list[40][0][0]\n",
    "plt.figure(figsize = (10, 8))\n",
    "vmin = img.mean() - 0.0 * img.std()\n",
    "vmax = img.mean() + 0.4 * img.std()\n",
    "plt.imshow(img, vmin = 0, vmax = 4)\n",
    "plt.colorbar()"
   ]
  },
  {
   "cell_type": "code",
   "execution_count": null,
   "id": "4d98c280-c859-468c-a112-d7addece2537",
   "metadata": {},
   "outputs": [],
   "source": [
    "import pickle\n",
    "path_pickle = 'fastdata.h5/mini.sq.pickle'\n",
    "with open(path_pickle, 'rb') as handle:\n",
    "    loaded_data_list = pickle.load(handle)"
   ]
  },
  {
   "cell_type": "markdown",
   "id": "5005fbbc-15a5-4f57-b5fd-c646f7a97259",
   "metadata": {},
   "source": [
    "#### Clean data"
   ]
  },
  {
   "cell_type": "code",
   "execution_count": null,
   "id": "5504cbae-0ed9-4541-abbb-07fb81e3234d",
   "metadata": {},
   "outputs": [],
   "source": [
    "len(loaded_data_list)"
   ]
  },
  {
   "cell_type": "code",
   "execution_count": null,
   "id": "9355f9e7-ed5d-4752-a4cc-f4f192a1422d",
   "metadata": {},
   "outputs": [],
   "source": []
  },
  {
   "cell_type": "markdown",
   "id": "645b14bf-cbab-4d13-9e64-98b37ecd3e91",
   "metadata": {},
   "source": [
    "#### Create fastdata (Dec)"
   ]
  },
  {
   "cell_type": "code",
   "execution_count": null,
   "id": "eca7eea8-0e32-4b9b-9132-f918aebe39b8",
   "metadata": {},
   "outputs": [],
   "source": [
    "!pwd"
   ]
  },
  {
   "cell_type": "code",
   "execution_count": null,
   "id": "3ad1ca4d-b272-49a9-adf9-d25444d77ad8",
   "metadata": {},
   "outputs": [],
   "source": [
    "# Load paths for using psana\n",
    "%env SIT_ROOT=/reg/g/psdm/\n",
    "%env SIT_DATA=/cds/group/psdm/data/\n",
    "%env SIT_PSDM_DATA=/cds/data/psdm/"
   ]
  },
  {
   "cell_type": "code",
   "execution_count": null,
   "id": "9a49fcbb-34b2-4015-858c-f62852155eec",
   "metadata": {},
   "outputs": [],
   "source": [
    "import numpy as np\n",
    "import os\n",
    "import h5py\n",
    "import random"
   ]
  },
  {
   "cell_type": "code",
   "execution_count": null,
   "id": "d1678db8-c4fc-4702-b8d8-37cb619edb60",
   "metadata": {},
   "outputs": [],
   "source": [
    "import matplotlib              as mpl\n",
    "import matplotlib.pyplot       as plt\n",
    "import matplotlib.colors       as mcolors\n",
    "import matplotlib.patches      as mpatches\n",
    "import matplotlib.transforms   as mtransforms\n",
    "import matplotlib.font_manager as font_manager\n",
    "%matplotlib inline"
   ]
  },
  {
   "cell_type": "code",
   "execution_count": null,
   "id": "19bf3aab-2c4f-46a5-b0c5-77416cd12496",
   "metadata": {},
   "outputs": [],
   "source": [
    "from deepprojection.plugins import PsanaImg\n",
    "from deepprojection.utils   import split_dataset, set_seed"
   ]
  },
  {
   "cell_type": "code",
   "execution_count": null,
   "id": "1ee5ed92-b994-47ba-98e5-dfa94aec8464",
   "metadata": {},
   "outputs": [],
   "source": [
    "seed = 0\n",
    "random.seed(seed)"
   ]
  },
  {
   "cell_type": "code",
   "execution_count": null,
   "id": "6e54ec07-e89f-4b7a-9c7a-de477182944e",
   "metadata": {},
   "outputs": [],
   "source": [
    "fl_dat = 'skopi/mini.sq.dat'\n",
    "with open(fl_dat, 'r') as fh:\n",
    "    entry_list = [ line.strip() for line in fh.readlines() ]"
   ]
  },
  {
   "cell_type": "code",
   "execution_count": null,
   "id": "d375ab0d-7b6c-43bd-ad14-e3836d7706ca",
   "metadata": {},
   "outputs": [],
   "source": [
    "entry_list[0]"
   ]
  },
  {
   "cell_type": "code",
   "execution_count": null,
   "id": "d7d58b32-4d38-4d7c-ad6a-6eefd8f14b43",
   "metadata": {},
   "outputs": [],
   "source": [
    "train_set, hold_set = split_dataset(entry_list, 0.5)"
   ]
  },
  {
   "cell_type": "code",
   "execution_count": null,
   "id": "a02f3093-4de6-4e23-ac4d-3c10a2f6ae0b",
   "metadata": {},
   "outputs": [],
   "source": [
    "train_set[-2]"
   ]
  },
  {
   "cell_type": "code",
   "execution_count": null,
   "id": "ce4c516a-6a36-4332-ac1a-c238f83b5095",
   "metadata": {},
   "outputs": [],
   "source": [
    "len(train_set), len(hold_set)"
   ]
  },
  {
   "cell_type": "code",
   "execution_count": null,
   "id": "66f2b588-b10b-4f2c-8dfe-7adc79a27c8a",
   "metadata": {},
   "outputs": [],
   "source": [
    "3027 * (57 * 4 / 1000)"
   ]
  },
  {
   "cell_type": "code",
   "execution_count": null,
   "id": "76ccb864-218c-40bc-9d04-172c5092621a",
   "metadata": {},
   "outputs": [],
   "source": [
    "100 * (57 * 4 / 1000)"
   ]
  },
  {
   "cell_type": "code",
   "execution_count": null,
   "id": "bbac91a0-e139-4e3f-8406-97be9f976739",
   "metadata": {},
   "outputs": [],
   "source": [
    "train_set[:100]"
   ]
  },
  {
   "cell_type": "code",
   "execution_count": null,
   "id": "f86bae86-37ca-4c6f-8a6d-8110a410333d",
   "metadata": {},
   "outputs": [],
   "source": [
    "a = (\"6Q5U\", \"1_hit\")\n",
    "b = (\"6Q5U\", \"2_hit\")"
   ]
  },
  {
   "cell_type": "code",
   "execution_count": null,
   "id": "57072fae-8bbc-4b2a-9a0a-91eb9a084391",
   "metadata": {},
   "outputs": [],
   "source": [
    "a == b"
   ]
  },
  {
   "cell_type": "code",
   "execution_count": null,
   "id": "af038110-db84-4298-b503-bf00c3857aab",
   "metadata": {},
   "outputs": [],
   "source": [
    "(\"6Q5U\", \"1_hit\") == (\"6Q5U\", \"1_hit\")"
   ]
  },
  {
   "cell_type": "code",
   "execution_count": null,
   "id": "8201deb5-32d0-450f-828d-03cb09d98ded",
   "metadata": {},
   "outputs": [],
   "source": [
    "pdb_list = entry_list"
   ]
  },
  {
   "cell_type": "code",
   "execution_count": null,
   "id": "a290afbd-de04-44cb-add3-63e8bb610887",
   "metadata": {},
   "outputs": [],
   "source": [
    "def create_path_label_list(pdb, drc):\n",
    "    path_label_list = []\n",
    "    for i in range(1, 4 + 1):\n",
    "        fl_h5   = f\"{pdb}.{i}_hit.h5\"\n",
    "        path_h5 = os.path.join(drc, fl_h5)\n",
    "        label   = (pdb, i)\n",
    "        path_label_list.append((path_h5, label))\n",
    "    \n",
    "    return path_label_list"
   ]
  },
  {
   "cell_type": "code",
   "execution_count": null,
   "id": "0a559b57-b383-4d22-addf-55136aa5c6eb",
   "metadata": {},
   "outputs": [],
   "source": [
    "drc = 'skopi/h5s_mini.sq.train'\n",
    "create_path_label_list(\"6Q5U\", drc)"
   ]
  },
  {
   "cell_type": "code",
   "execution_count": null,
   "id": "55cdf31c-074b-4820-9985-5e45e79f2669",
   "metadata": {},
   "outputs": [],
   "source": [
    "fh.get('photons').shape"
   ]
  },
  {
   "cell_type": "markdown",
   "id": "4a4976c3-da18-43cf-9a24-71035da3e147",
   "metadata": {},
   "source": [
    "#### Original label"
   ]
  },
  {
   "cell_type": "code",
   "execution_count": null,
   "id": "c3944264-209a-43dd-8ae0-5ba31d7c3cc4",
   "metadata": {},
   "outputs": [],
   "source": [
    "global_data_list = []\n",
    "for pdb in pdb_list:\n",
    "    path_label_list = create_path_label_list(pdb, drc)\n",
    "    mask = np.load('skopi/h5s_mini.sq/mask.npy')\n",
    "    for path_h5, label in path_label_list:\n",
    "        data_list = []\n",
    "        with h5py.File(path_h5, 'r') as fh:     \n",
    "            for idx, img in enumerate(fh.get('photons')):\n",
    "                img = img * mask[None,]\n",
    "                data_list.append((img[0], label, f\"{label[0]} {label[1]} {idx}\"))\n",
    "        global_data_list.extend(data_list)"
   ]
  },
  {
   "cell_type": "markdown",
   "id": "d3662c8b-cd2b-4457-a38d-78a5c27d499b",
   "metadata": {},
   "source": [
    "#### Label corrected"
   ]
  },
  {
   "cell_type": "code",
   "execution_count": null,
   "id": "c471fa31-6d2e-47be-b2ab-a83325e2805a",
   "metadata": {},
   "outputs": [],
   "source": [
    "global_data_list = []\n",
    "for pdb in pdb_list:\n",
    "    path_label_list = create_path_label_list(pdb, drc)\n",
    "    mask = np.load('skopi/h5s_mini.sq/mask.npy')\n",
    "    for path_h5, label in path_label_list:\n",
    "        data_list = []\n",
    "        \n",
    "        # Correct label...\n",
    "        pdb, hit_type = label\n",
    "        hit_type = min(hit_type, 2)\n",
    "        label_corrected = (pdb, hit_type) \n",
    "        \n",
    "        with h5py.File(path_h5, 'r') as fh:     \n",
    "            for idx, img in enumerate(fh.get('photons')):\n",
    "                img = img * mask[None,]\n",
    "                # data_list.append((img[0], label, f\"{label[0]} {label[1]} {idx}\"))\n",
    "                data_list.append((img[0], label_corrected, f\"{label_corrected[0]} {label_corrected[1]}({label[1]}) {idx}\"))\n",
    "        global_data_list.extend(data_list)"
   ]
  },
  {
   "cell_type": "code",
   "execution_count": null,
   "id": "4ab0a8c7-f862-4cc5-9976-2e127a1c2ba8",
   "metadata": {},
   "outputs": [],
   "source": [
    "global_data_list[300+1]"
   ]
  },
  {
   "cell_type": "code",
   "execution_count": null,
   "id": "5f55843e-c7ca-4dbd-b40b-43c9361eb6ab",
   "metadata": {},
   "outputs": [],
   "source": [
    "global_data_list[200+1]"
   ]
  },
  {
   "cell_type": "code",
   "execution_count": null,
   "id": "ed894f1b-9e04-4056-b455-f1a0209c909a",
   "metadata": {},
   "outputs": [],
   "source": [
    "global_data_list[100+1]"
   ]
  },
  {
   "cell_type": "code",
   "execution_count": null,
   "id": "0eadae09-cce6-4e50-abbd-bd23fd286668",
   "metadata": {},
   "outputs": [],
   "source": [
    "import pickle\n",
    "path_pickle = 'fastdata.h5/mini.sq.train.relabel.pickle'\n",
    "with open(path_pickle, 'wb') as handle:\n",
    "    pickle.dump(global_data_list, handle, protocol=pickle.HIGHEST_PROTOCOL)"
   ]
  },
  {
   "cell_type": "code",
   "execution_count": null,
   "id": "b1b53124-1fee-4296-a681-0663a8a56d45",
   "metadata": {},
   "outputs": [],
   "source": [
    "global_data_list[20]"
   ]
  },
  {
   "cell_type": "code",
   "execution_count": null,
   "id": "3f8faced-cb6b-4700-b99c-349aeab05163",
   "metadata": {},
   "outputs": [],
   "source": [
    "img = global_data_list[5233][0]\n",
    "plt.figure(figsize = (10, 8))\n",
    "vmin = img.mean() - 0.4 * img.std()\n",
    "vmax = img.mean() + 0.4 * img.std()\n",
    "plt.imshow(img, vmin = vmin, vmax = vmax)\n",
    "plt.colorbar()"
   ]
  },
  {
   "cell_type": "code",
   "execution_count": null,
   "id": "207b7110-af85-4abc-b93e-74d2b47a056d",
   "metadata": {},
   "outputs": [],
   "source": [
    "with open(path_pickle, 'rb') as handle:\n",
    "    loaded_data_list = pickle.load(handle)"
   ]
  },
  {
   "cell_type": "code",
   "execution_count": null,
   "id": "b81bbce5-dc01-46ef-ba07-b886a1546259",
   "metadata": {},
   "outputs": [],
   "source": [
    "loaded_data_list[99+10]"
   ]
  },
  {
   "cell_type": "code",
   "execution_count": null,
   "id": "4175d46f-4b85-4b68-abcf-27266683f5f7",
   "metadata": {},
   "outputs": [],
   "source": [
    "100 * 100"
   ]
  }
 ],
 "metadata": {
  "kernelspec": {
   "display_name": "ana-ml-py3",
   "language": "python",
   "name": "ana-py3"
  },
  "language_info": {
   "codemirror_mode": {
    "name": "ipython",
    "version": 3
   },
   "file_extension": ".py",
   "mimetype": "text/x-python",
   "name": "python",
   "nbconvert_exporter": "python",
   "pygments_lexer": "ipython3",
   "version": "3.7.9"
  }
 },
 "nbformat": 4,
 "nbformat_minor": 5
}
