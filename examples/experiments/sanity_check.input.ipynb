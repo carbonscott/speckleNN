{
 "cells": [
  {
   "cell_type": "code",
   "execution_count": 1,
   "id": "dbbfc87e-ff0c-4cd4-aa7b-19af955382ff",
   "metadata": {},
   "outputs": [
    {
     "name": "stdout",
     "output_type": "stream",
     "text": [
      "/reg/data/ana03/scratch/cwang31/spi\n"
     ]
    }
   ],
   "source": [
    "!pwd"
   ]
  },
  {
   "cell_type": "code",
   "execution_count": 2,
   "id": "0062c86b-1330-4a2c-b41d-de6c4d4164b9",
   "metadata": {},
   "outputs": [
    {
     "name": "stdout",
     "output_type": "stream",
     "text": [
      "env: SIT_ROOT=/reg/g/psdm/\n",
      "env: SIT_DATA=/cds/group/psdm/data/\n",
      "env: SIT_PSDM_DATA=/cds/data/psdm/\n"
     ]
    }
   ],
   "source": [
    "# Load paths for using psana\n",
    "%env SIT_ROOT=/reg/g/psdm/\n",
    "%env SIT_DATA=/cds/group/psdm/data/\n",
    "%env SIT_PSDM_DATA=/cds/data/psdm/"
   ]
  },
  {
   "cell_type": "code",
   "execution_count": 3,
   "id": "96fe1711-3f5b-4b33-8c54-08f9f8ef8c1d",
   "metadata": {},
   "outputs": [],
   "source": [
    "import os\n",
    "import logging\n",
    "import torch\n",
    "import socket\n",
    "import pickle\n",
    "import tqdm\n",
    "\n",
    "from deepprojection.datasets.lite    import SPIDataset         , SPIOnlineDataset\n",
    "from deepprojection.model            import OnlineSiameseModel , ConfigSiameseModel\n",
    "from deepprojection.trainer          import OnlineTrainer      , ConfigTrainer\n",
    "from deepprojection.validator        import OnlineLossValidator, ConfigValidator\n",
    "from deepprojection.encoders.convnet import Hirotaka0122       , ConfigEncoder\n",
    "from deepprojection.utils            import EpochManager       , MetaLog, init_logger, split_dataset\n",
    "from datetime import datetime\n",
    "from image_preprocess import DatasetPreprocess\n",
    "\n",
    "# [[[ CONFIG ]]]\n",
    "timestamp_prev = None\n",
    "frac_train = 0.5\n",
    "frac_validate = 0.5\n",
    "\n",
    "lr = 1e-3\n",
    "alpha = 2.0\n",
    "seed = 0\n",
    "\n",
    "size_sample_train = 1000\n",
    "size_sample_validate = 1000\n",
    "size_sample_per_class = 40\n",
    "size_batch = 200\n",
    "online_shuffle = True\n",
    "trans = None\n",
    "\n",
    "# [[[ LOGGING ]]]\n",
    "timestamp = init_logger(log_name = 'train', returns_timestamp = True)\n",
    "\n",
    "\n",
    "# Clarify the purpose of this experiment...\n",
    "hostname = socket.gethostname()\n",
    "comments = f\"\"\"\n",
    "            Hostname: {hostname}.\n",
    "\n",
    "            Online training.\n",
    "\n",
    "            Sample size (train)     : {size_sample_train}\n",
    "            Sample size (validate)  : {size_sample_validate}\n",
    "            Sample size (per class) : {size_sample_per_class}\n",
    "            Batch  size             : {size_batch}\n",
    "            Alpha                   : {alpha}\n",
    "            Online shuffle          : {online_shuffle}\n",
    "            lr                      : {lr}\n",
    "\n",
    "            \"\"\"\n",
    "\n",
    "\n",
    "# [[[ DATASET ]]]\n",
    "# Set up parameters for an experiment...\n",
    "drc_dataset   = 'fastdata'\n",
    "fl_dataset    = '0000.fastdata'    # Raw, just give it a try\n",
    "path_dataset  = os.path.join(drc_dataset, fl_dataset)\n",
    "\n",
    "# Load raw data...\n",
    "with open(path_dataset, 'rb') as fh:\n",
    "    dataset_list = pickle.load(fh)\n",
    "\n",
    "# Split data...\n",
    "data_train   , data_val_and_test = split_dataset(dataset_list     , frac_train   , seed = seed)\n",
    "data_validate, data_test         = split_dataset(data_val_and_test, frac_validate, seed = seed)\n",
    "\n",
    "# Define the training set\n",
    "dataset_train = SPIOnlineDataset( dataset_list = data_train, \n",
    "                                  size_sample  = size_sample_train,\n",
    "                                  size_sample_per_class = size_sample_per_class, \n",
    "                                  trans = None,\n",
    "                                  seed  = seed, )\n",
    "\n",
    "# Define the training set\n",
    "dataset_validate = SPIOnlineDataset( dataset_list = data_validate, \n",
    "                                     size_sample  = size_sample_train,\n",
    "                                     size_sample_per_class = size_sample_per_class, \n",
    "                                     trans = None,\n",
    "                                     seed  = seed, )"
   ]
  },
  {
   "cell_type": "code",
   "execution_count": 4,
   "id": "e0d318b7-5ba9-4a29-8baf-dc60b3e21b72",
   "metadata": {},
   "outputs": [
    {
     "data": {
      "text/plain": [
       "[40, 40, 40]"
      ]
     },
     "execution_count": 4,
     "metadata": {},
     "output_type": "execute_result"
    }
   ],
   "source": [
    "[ len(dataset_train.label_seqi_dict[i]) for i in range(3) ]"
   ]
  },
  {
   "cell_type": "code",
   "execution_count": null,
   "id": "4273efc1-1792-41e5-a92e-031a71a9a426",
   "metadata": {},
   "outputs": [],
   "source": [
    "for i, item in enumerate(dataset_validate):\n",
    "    if i > 10: break\n",
    "    print(item[2])"
   ]
  },
  {
   "cell_type": "code",
   "execution_count": null,
   "id": "34fbff3e-f010-4739-bb44-eab49ae9c4b5",
   "metadata": {},
   "outputs": [],
   "source": [
    "for i, item in enumerate(dataset_validate):\n",
    "    if i > 10: break\n",
    "    print(item[2])"
   ]
  },
  {
   "cell_type": "code",
   "execution_count": null,
   "id": "61663f10-f82b-4e1a-8d69-20bfa0391d1f",
   "metadata": {},
   "outputs": [],
   "source": [
    "dataset_train[0]"
   ]
  },
  {
   "cell_type": "markdown",
   "id": "e0701f4d-e239-45a1-8b8e-acbc5a6bdab2",
   "metadata": {},
   "source": [
    "### Preprocess"
   ]
  },
  {
   "cell_type": "code",
   "execution_count": 5,
   "id": "83d8c7ba-1358-4628-97f0-344e2120a53d",
   "metadata": {},
   "outputs": [],
   "source": [
    "# Preprocess dataset...\n",
    "# Data preprocessing can be lengthy and defined in dataset_preprocess.py\n",
    "img_orig            = dataset_train[0][0][0]   # idx, fetch img\n",
    "dataset_preproc     = DatasetPreprocess(img_orig)\n",
    "trans               = dataset_preproc.config_trans()\n",
    "dataset_train.trans = trans\n",
    "dataset_validate.trans = trans\n",
    "img_trans           = dataset_train[0][0][0]"
   ]
  },
  {
   "cell_type": "markdown",
   "id": "e9312af8-71eb-4aa0-8f81-3d17834d15d4",
   "metadata": {},
   "source": [
    "#### Just checking"
   ]
  },
  {
   "cell_type": "code",
   "execution_count": 6,
   "id": "a34a7d70-7153-42d0-8cdb-533924edcb20",
   "metadata": {},
   "outputs": [],
   "source": [
    "import matplotlib.pyplot as plt\n",
    "%matplotlib inline"
   ]
  },
  {
   "cell_type": "code",
   "execution_count": null,
   "id": "c56371f1-5302-4952-9490-4f88feeac14c",
   "metadata": {},
   "outputs": [],
   "source": [
    "dataset_train.label_seqi_dict[0]"
   ]
  },
  {
   "cell_type": "code",
   "execution_count": null,
   "id": "0745fac9-2718-4310-bb6b-2530a90d9bd5",
   "metadata": {},
   "outputs": [],
   "source": [
    "dataset_train.online_set.index(297)"
   ]
  },
  {
   "cell_type": "code",
   "execution_count": null,
   "id": "ca74059e-d59f-495f-a8a6-7c9bc3ac14d7",
   "metadata": {},
   "outputs": [],
   "source": [
    "data_train[297]"
   ]
  },
  {
   "cell_type": "code",
   "execution_count": 7,
   "id": "b30cb60a-52af-446a-9e5a-73ea471acbea",
   "metadata": {},
   "outputs": [
    {
     "data": {
      "text/plain": [
       "<matplotlib.colorbar.Colorbar at 0x7f599f968510>"
      ]
     },
     "execution_count": 7,
     "metadata": {},
     "output_type": "execute_result"
    },
    {
     "data": {
      "image/png": "[encoded data removed]",
      "text/plain": [
       "<Figure size 432x288 with 2 Axes>"
      ]
     },
     "metadata": {
      "needs_background": "light"
     },
     "output_type": "display_data"
    }
   ],
   "source": [
    "idx = 297\n",
    "plt.figure(figsize = (6, 4))\n",
    "#data = img_orig\n",
    "data = data_train[idx][0]\n",
    "vmin = data.mean()\n",
    "vmax = vmin + 1 * data.std()\n",
    "plt.imshow(data, vmin = vmin, vmax = vmax)\n",
    "metadata = data_train[idx][2]\n",
    "plt.title(metadata)\n",
    "plt.colorbar()"
   ]
  },
  {
   "cell_type": "code",
   "execution_count": 10,
   "id": "f4c15aa4-0da0-4913-a66c-6578f4df4751",
   "metadata": {},
   "outputs": [
    {
     "data": {
      "text/plain": [
       "<matplotlib.colorbar.Colorbar at 0x7f599f669190>"
      ]
     },
     "execution_count": 10,
     "metadata": {},
     "output_type": "execute_result"
    },
    {
     "data": {
      "image/png": "[encoded data removed]",
      "text/plain": [
       "<Figure size 432x288 with 2 Axes>"
      ]
     },
     "metadata": {
      "needs_background": "light"
     },
     "output_type": "display_data"
    }
   ],
   "source": [
    "idx = 3\n",
    "plt.figure(figsize = (6, 4))\n",
    "#data = img_orig\n",
    "data = dataset_train[idx][0][0]\n",
    "vmin = data.mean()\n",
    "vmax = vmin + 1 * data.std()\n",
    "plt.imshow(data, vmin = vmin, vmax = vmax)\n",
    "metadata = dataset_train[idx][2]\n",
    "plt.title(metadata)\n",
    "plt.colorbar()"
   ]
  },
  {
   "cell_type": "code",
   "execution_count": null,
   "id": "7265f932-57a0-4842-9778-c45688d6ce76",
   "metadata": {},
   "outputs": [],
   "source": [
    "label = 0\n",
    "for i in dataset_train.label_seqi_dict[label]:\n",
    "    plt.figure(figsize = (6, 4))\n",
    "    #data = img_orig\n",
    "    data = data_train[i][0]\n",
    "    vmin = data.mean()\n",
    "    vmax = vmin + 1 * data.std()\n",
    "    plt.imshow(data, vmin = vmin, vmax = vmax)\n",
    "    metadata = data_train[i][2]\n",
    "    plt.title(metadata)\n",
    "    plt.colorbar()"
   ]
  },
  {
   "cell_type": "code",
   "execution_count": null,
   "id": "95601bc4-360a-4569-8496-ab3032526eb1",
   "metadata": {},
   "outputs": [],
   "source": [
    "plt.figure(figsize = (15, 12))\n",
    "data = img_orig\n",
    "vmin = data.mean()\n",
    "vmax = vmin + 1 * data.std()\n",
    "plt.imshow(data, vmin = vmin, vmax = vmax)\n",
    "plt.colorbar()"
   ]
  },
  {
   "cell_type": "code",
   "execution_count": null,
   "id": "8f5fa088-e6bf-45e9-9512-ec4119bb1de5",
   "metadata": {},
   "outputs": [],
   "source": [
    "plt.figure(figsize = (15, 12))\n",
    "data = dataset_train[134][0][0]\n",
    "vmin = data.mean()\n",
    "vmax = vmin + 1 * data.std()\n",
    "plt.imshow(data, vmin = vmin, vmax = vmax)\n",
    "plt.colorbar()"
   ]
  }
 ],
 "metadata": {
  "kernelspec": {
   "display_name": "ana-ml-py3",
   "language": "python",
   "name": "ana-py3"
  },
  "language_info": {
   "codemirror_mode": {
    "name": "ipython",
    "version": 3
   },
   "file_extension": ".py",
   "mimetype": "text/x-python",
   "name": "python",
   "nbconvert_exporter": "python",
   "pygments_lexer": "ipython3",
   "version": "3.7.9"
  }
 },
 "nbformat": 4,
 "nbformat_minor": 5
}
