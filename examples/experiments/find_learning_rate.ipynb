{
 "cells": [
  {
   "cell_type": "code",
   "execution_count": 1,
   "id": "3c746cc9-6cfa-48e2-9854-74a6fb5ba057",
   "metadata": {},
   "outputs": [
    {
     "name": "stdout",
     "output_type": "stream",
     "text": [
      "/reg/data/ana03/scratch/cwang31/spi\n"
     ]
    }
   ],
   "source": [
    "!pwd"
   ]
  },
  {
   "cell_type": "code",
   "execution_count": 2,
   "id": "854aa85d-9ac5-4a25-b6cf-154d34820019",
   "metadata": {},
   "outputs": [
    {
     "name": "stdout",
     "output_type": "stream",
     "text": [
      "env: SIT_ROOT=/reg/g/psdm/\n",
      "env: SIT_DATA=/cds/group/psdm/data/\n",
      "env: SIT_PSDM_DATA=/cds/data/psdm/\n"
     ]
    }
   ],
   "source": [
    "# Load paths for using psana\n",
    "%env SIT_ROOT=/reg/g/psdm/\n",
    "%env SIT_DATA=/cds/group/psdm/data/\n",
    "%env SIT_PSDM_DATA=/cds/data/psdm/"
   ]
  },
  {
   "cell_type": "code",
   "execution_count": 3,
   "id": "9fb0ebc2-6564-40b2-97e0-ee47f41d4130",
   "metadata": {},
   "outputs": [
    {
     "name": "stdout",
     "output_type": "stream",
     "text": [
      "2022_1129_2242_47\n"
     ]
    }
   ],
   "source": [
    "import os\n",
    "import logging\n",
    "import torch\n",
    "import socket\n",
    "import pickle\n",
    "import tqdm\n",
    "\n",
    "from deepprojection.datasets.lite    import SPIDataset         , SPIOnlineDataset\n",
    "from deepprojection.model            import OnlineSiameseModel , ConfigSiameseModel\n",
    "from deepprojection.trainer          import OnlineTrainer      , ConfigTrainer\n",
    "from deepprojection.validator        import OnlineLossValidator, ConfigValidator\n",
    "from deepprojection.encoders.convnet import Hirotaka0122       , ConfigEncoder\n",
    "from deepprojection.utils            import EpochManager       , MetaLog, init_logger, split_dataset, set_seed\n",
    "from datetime import datetime\n",
    "from image_preprocess_faulty import DatasetPreprocess\n",
    "\n",
    "# [[[ SEED ]]]\n",
    "seed = 0\n",
    "set_seed(seed)\n",
    "\n",
    "\n",
    "# [[[ CONFIG ]]]\n",
    "timestamp_prev = None\n",
    "frac_train     = 0.5\n",
    "frac_validate  = 0.5\n",
    "\n",
    "logs_triplets = True\n",
    "\n",
    "lr = 1e-3\n",
    "## lr = 5e-4\n",
    "\n",
    "## alpha = 0.02\n",
    "## alpha = 0.03336201\n",
    "alpha = 0.05565119\n",
    "## alpha = 0.09283178\n",
    "## alpha = 0.15485274\n",
    "## alpha = 0.25830993\n",
    "## alpha = 0.43088694\n",
    "## alpha = 0.71876273\n",
    "## alpha = 1.1989685\n",
    "## alpha = 2.0\n",
    "\n",
    "size_sample_per_class_train    = 6\n",
    "## size_sample_per_class_train    = 10\n",
    "## size_sample_per_class_train    = 20\n",
    "## size_sample_per_class_train    = 40\n",
    "## size_sample_per_class_train    = 60\n",
    "size_sample_train              = size_sample_per_class_train * 100\n",
    "size_sample_validate           = size_sample_train // 2\n",
    "size_sample_per_class_validate = size_sample_per_class_train // 2\n",
    "size_batch                     = 20\n",
    "trans                          = None\n",
    "\n",
    "# [[[ LOGGING ]]]\n",
    "timestamp = init_logger(log_name = 'train', returns_timestamp = True)\n",
    "print(timestamp)\n",
    "\n",
    "# Clarify the purpose of this experiment...\n",
    "hostname = socket.gethostname()\n",
    "comments = f\"\"\"\n",
    "            Hostname: {hostname}.\n",
    "\n",
    "            Online training.\n",
    "\n",
    "            Sample size (train)               : {size_sample_train}\n",
    "            Sample size (validate)            : {size_sample_validate}\n",
    "            Sample size (per class, train)    : {size_sample_per_class_train}\n",
    "            Sample size (per class, validate) : {size_sample_per_class_validate}\n",
    "            Batch  size                       : {size_batch}\n",
    "            Alpha                             : {alpha}\n",
    "            lr                                : {lr}\n",
    "\n",
    "            \"\"\"\n",
    "\n",
    "# Create a metalog to the log file, explaining the purpose of this run...\n",
    "metalog = MetaLog( comments = comments )\n",
    "metalog.report()\n",
    "\n",
    "\n",
    "# [[[ DATASET ]]]\n",
    "# Set up parameters for an experiment...\n",
    "drc_dataset   = 'fastdata'\n",
    "fl_dataset    = '0000.fastdata'    # Raw, just give it a try\n",
    "path_dataset  = os.path.join(drc_dataset, fl_dataset)\n",
    "\n",
    "# Load raw data...\n",
    "with open(path_dataset, 'rb') as fh:\n",
    "    dataset_list = pickle.load(fh)\n",
    "\n",
    "# Split data...\n",
    "data_train   , data_val_and_test = split_dataset(dataset_list     , frac_train   , seed = None)\n",
    "data_validate, data_test         = split_dataset(data_val_and_test, frac_validate, seed = None)\n",
    "\n",
    "# Define the training set\n",
    "dataset_train = SPIOnlineDataset( dataset_list          = data_train, \n",
    "                                  size_sample           = size_sample_train,\n",
    "                                  size_sample_per_class = size_sample_per_class_train, \n",
    "                                  trans                 = trans, \n",
    "                                  seed                  = None, )\n",
    "dataset_train.report()\n",
    "\n",
    "# Define the training set\n",
    "dataset_validate = SPIOnlineDataset( dataset_list          = data_validate, \n",
    "                                     size_sample           = size_sample_train,\n",
    "                                     size_sample_per_class = size_sample_per_class_validate, \n",
    "                                     trans                 = trans, \n",
    "                                     seed                  = None, )\n",
    "dataset_validate.report()"
   ]
  },
  {
   "cell_type": "code",
   "execution_count": null,
   "id": "17d2e8ac-0e8c-429b-bdd1-e1d47d953022",
   "metadata": {},
   "outputs": [],
   "source": [
    "[ len(dataset_train.label_seqi_dict[i]) for i in range(3) ]"
   ]
  },
  {
   "cell_type": "code",
   "execution_count": null,
   "id": "bd53ed79-e214-49a6-a0e5-ab718c22b156",
   "metadata": {},
   "outputs": [],
   "source": [
    "for i, item in enumerate(dataset_validate):\n",
    "    if i > 10: break\n",
    "    print(item[2])"
   ]
  },
  {
   "cell_type": "code",
   "execution_count": null,
   "id": "5b19a2b4-1367-461d-a53b-9eef2d398ecc",
   "metadata": {},
   "outputs": [],
   "source": [
    "for i, item in enumerate(dataset_validate):\n",
    "    if i > 10: break\n",
    "    print(item[2])"
   ]
  },
  {
   "cell_type": "code",
   "execution_count": null,
   "id": "19fcbcb2-7f5f-4823-8469-8cf656dbdd9a",
   "metadata": {},
   "outputs": [],
   "source": [
    "dataset_train[0]"
   ]
  },
  {
   "cell_type": "markdown",
   "id": "2be04542-41c0-4722-a138-78e80b55ad5f",
   "metadata": {
    "tags": []
   },
   "source": [
    "### Preprocess"
   ]
  },
  {
   "cell_type": "code",
   "execution_count": 4,
   "id": "82679e9d-af82-4459-8d60-dc4055aa740f",
   "metadata": {},
   "outputs": [],
   "source": [
    "# Preprocess dataset...\n",
    "# Data preprocessing can be lengthy and defined in dataset_preprocess.py\n",
    "img_orig            = dataset_train[0][0][0]   # idx, fetch img\n",
    "dataset_preproc     = DatasetPreprocess(img_orig)\n",
    "trans               = dataset_preproc.config_trans()\n",
    "dataset_train.trans = trans\n",
    "dataset_validate.trans = trans\n",
    "img_trans           = dataset_train[0][0][0]"
   ]
  },
  {
   "cell_type": "code",
   "execution_count": 5,
   "id": "bb513c43-ccf0-41f3-95a3-287347ac69d5",
   "metadata": {},
   "outputs": [],
   "source": [
    "dataset_train.cache_dataset()\n",
    "dataset_validate.cache_dataset()"
   ]
  },
  {
   "cell_type": "markdown",
   "id": "e761179f-64d1-4735-9eeb-38d7da35e0b5",
   "metadata": {},
   "source": [
    "#### Just checking"
   ]
  },
  {
   "cell_type": "code",
   "execution_count": 6,
   "id": "af53612b-98d1-42c5-a67d-b1f1b6dd55a3",
   "metadata": {},
   "outputs": [],
   "source": [
    "import matplotlib.pyplot as plt\n",
    "%matplotlib inline"
   ]
  },
  {
   "cell_type": "code",
   "execution_count": null,
   "id": "d871e8a7-97e3-4933-8e61-c7da0c9f933a",
   "metadata": {},
   "outputs": [],
   "source": [
    "plt.figure(figsize = (5, 3))\n",
    "data = img_orig\n",
    "vmin = data.mean()\n",
    "vmax = vmin + 1 * data.std()\n",
    "plt.imshow(data, vmin = vmin, vmax = vmax)\n",
    "plt.colorbar()"
   ]
  },
  {
   "cell_type": "code",
   "execution_count": null,
   "id": "3d86f3d6-acef-4b25-868a-ce33e080852a",
   "metadata": {},
   "outputs": [],
   "source": [
    "plt.figure(figsize = (5, 3))\n",
    "data = dataset_train[0][0][0]\n",
    "vmin = data.mean()\n",
    "vmax = vmin + 1 * data.std()\n",
    "plt.imshow(data, vmin = vmin, vmax = vmax)\n",
    "plt.colorbar()"
   ]
  },
  {
   "cell_type": "code",
   "execution_count": null,
   "id": "50ed7994-5cb6-4998-90ca-fb2282f9015d",
   "metadata": {},
   "outputs": [],
   "source": [
    "for j in range(20):\n",
    "    for _ in range(1):\n",
    "        plt.figure(figsize = (5, 3))\n",
    "        #data = img_orig\n",
    "        data = dataset_train[j][0][0]\n",
    "        vmin = data.mean()\n",
    "        vmax = vmin + 1 * data.std()\n",
    "        plt.imshow(data, vmin = vmin, vmax = vmax)\n",
    "        plt.colorbar()"
   ]
  },
  {
   "cell_type": "markdown",
   "id": "37414653-e8e4-46c9-b7e9-d1223951fa0d",
   "metadata": {
    "tags": []
   },
   "source": [
    "### Load model"
   ]
  },
  {
   "cell_type": "code",
   "execution_count": 7,
   "id": "0985ec64-19ca-4aa5-b353-05a7fdfb3070",
   "metadata": {},
   "outputs": [],
   "source": [
    "# [[[ IMAGE ENCODER ]]]\n",
    "# Config the encoder...\n",
    "dim_emb        = 128\n",
    "size_y, size_x = img_trans.shape[-2:]\n",
    "config_encoder = ConfigEncoder( dim_emb = dim_emb,\n",
    "                                size_y  = size_y,\n",
    "                                size_x  = size_x,\n",
    "                                isbias  = True )\n",
    "encoder = Hirotaka0122(config_encoder)\n",
    "\n",
    "\n",
    "# [[[ MODEL ]]]\n",
    "# Config the model...\n",
    "config_siamese = ConfigSiameseModel( alpha = alpha, encoder = encoder, )\n",
    "model = OnlineSiameseModel(config_siamese)\n",
    "model.init_params(from_timestamp = timestamp_prev)"
   ]
  },
  {
   "cell_type": "markdown",
   "id": "0cc6aadd-1fb3-47bf-88d6-dc3b1edbdc73",
   "metadata": {},
   "source": [
    "### Config trainer and validator"
   ]
  },
  {
   "cell_type": "code",
   "execution_count": 8,
   "id": "08fedc92-24ce-4fa2-bb0d-ffa3ca64198c",
   "metadata": {},
   "outputs": [],
   "source": [
    "# [[[ CHECKPOINT ]]]\n",
    "drc_cwd          = os.getcwd()\n",
    "DRCCHKPT         = \"chkpts\"\n",
    "prefixpath_chkpt = os.path.join(drc_cwd, DRCCHKPT)\n",
    "fl_chkpt         = f\"{timestamp}.train.chkpt\"\n",
    "path_chkpt       = os.path.join(prefixpath_chkpt, fl_chkpt)\n",
    "\n",
    "\n",
    "# [[[ TRAINER ]]]\n",
    "# Config the trainer...\n",
    "config_train = ConfigTrainer( path_chkpt        = path_chkpt,\n",
    "                              num_workers       = 1,\n",
    "                              batch_size        = size_batch,\n",
    "                              pin_memory        = True,\n",
    "                              shuffle           = False,\n",
    "                              logs_triplets     = logs_triplets,\n",
    "                              method            = 'random-semi-hard', \n",
    "                              lr                = lr, \n",
    "                              tqdm_disable      = True)\n",
    "trainer = OnlineTrainer(model, dataset_train, config_train)\n",
    "\n",
    "\n",
    "# [[[ VALIDATOR ]]]\n",
    "config_validator = ConfigValidator( path_chkpt        = None,\n",
    "                                    num_workers       = 1,\n",
    "                                    batch_size        = size_batch,\n",
    "                                    pin_memory        = True,\n",
    "                                    shuffle           = False,\n",
    "                                    logs_triplets     = logs_triplets,\n",
    "                                    method            = 'random-semi-hard', \n",
    "                                    lr                = lr,\n",
    "                                    tqdm_disable      = True)  # Conv2d input needs one more dim for batch\n",
    "validator = OnlineLossValidator(model, dataset_validate, config_validator)"
   ]
  },
  {
   "cell_type": "markdown",
   "id": "ba8c2e0a-55e1-43a8-a4d3-68a8bb2c13a9",
   "metadata": {},
   "source": [
    "### Find learning rates"
   ]
  },
  {
   "cell_type": "code",
   "execution_count": 9,
   "id": "2845a122-e9bd-4037-8e46-638681d06deb",
   "metadata": {},
   "outputs": [],
   "source": [
    "lr_exponent_list = torch.linspace(-8,1,1000)"
   ]
  },
  {
   "cell_type": "code",
   "execution_count": 10,
   "id": "5f112f26-5bff-4bcf-a558-94f24f82d870",
   "metadata": {},
   "outputs": [],
   "source": [
    "from torch.utils.data.dataloader import DataLoader\n",
    "\n",
    "# Turn on training mode...\n",
    "model.train()\n",
    "dataset = dataset_train\n",
    "loader_train = DataLoader( dataset, shuffle     = config_train.shuffle, \n",
    "                                    pin_memory  = config_train.pin_memory, \n",
    "                                    batch_size  = config_train.batch_size,\n",
    "                                    num_workers = config_train.num_workers )"
   ]
  },
  {
   "cell_type": "code",
   "execution_count": 11,
   "id": "69012aa7-ae59-4cd5-aa97-4b739adf661f",
   "metadata": {},
   "outputs": [],
   "source": [
    "device = torch.cuda.current_device() if torch.cuda.is_available() else 'cpu'"
   ]
  },
  {
   "cell_type": "code",
   "execution_count": 12,
   "id": "fd38a88e-0ffc-4ed1-93f2-aa6ac2688254",
   "metadata": {},
   "outputs": [],
   "source": [
    "import random\n",
    "\n",
    "loader_train_list = list(loader_train)\n",
    "\n",
    "avg_loss = 0.0\n",
    "beta = 0.98\n",
    "loss_vs_lr_exponent_list = []\n",
    "for i, lr_exponent in enumerate(lr_exponent_list):\n",
    "    lr = 10**lr_exponent\n",
    "    \n",
    "    # print(f\"Processing {i}, {lr}...\")\n",
    "    config_train.lr = lr\n",
    "    optimizer = model.configure_optimizers(config_train)\n",
    "    \n",
    "    idx_rand = random.randrange(0, len(loader_train))\n",
    "    data = loader_train_list[idx_rand]\n",
    "    batch_imgs, batch_labels, batch_metadata = data\n",
    "    batch_imgs = batch_imgs.to(device, dtype = torch.float)\n",
    "    \n",
    "    loss = model.forward(batch_imgs, batch_labels, batch_metadata, \n",
    "                         logs_triplets = config_train.logs_triplets, \n",
    "                         method = config_train.method,)\n",
    "\n",
    "    optimizer.zero_grad()\n",
    "    loss.backward()\n",
    "    optimizer.step()\n",
    "    \n",
    "    avg_loss = beta * avg_loss + (1-beta) *loss.item()\n",
    "    smoothed_loss = avg_loss / (1 - beta**(i+1))\n",
    "    \n",
    "    # loss_vs_lr_exponent_list.append((lr.item(), loss.item()))\n",
    "    loss_vs_lr_exponent_list.append((lr_exponent.item(), smoothed_loss))"
   ]
  },
  {
   "cell_type": "code",
   "execution_count": 13,
   "id": "f0567291-42e8-4e10-85ea-4afa10302da9",
   "metadata": {},
   "outputs": [
    {
     "data": {
      "text/plain": [
       "(tensor(-8.), 0.09719862788915634)"
      ]
     },
     "execution_count": 13,
     "metadata": {},
     "output_type": "execute_result"
    }
   ],
   "source": [
    "loss_vs_lr_exponent_list[0]"
   ]
  },
  {
   "cell_type": "code",
   "execution_count": 14,
   "id": "d40c63c1-4df0-48ed-809e-d527bb1e2a54",
   "metadata": {},
   "outputs": [
    {
     "data": {
      "text/plain": [
       "[<matplotlib.lines.Line2D at 0x7f7b37baf750>]"
      ]
     },
     "execution_count": 14,
     "metadata": {},
     "output_type": "execute_result"
    },
    {
     "data": {
      "image/png": "[encoded data removed]",
      "text/plain": [
       "<Figure size 720x576 with 1 Axes>"
      ]
     },
     "metadata": {
      "needs_background": "light"
     },
     "output_type": "display_data"
    }
   ],
   "source": [
    "import numpy as np\n",
    "\n",
    "x = np.array([ lr for lr, _ in loss_vs_lr_exponent_list ])\n",
    "y = np.array([ loss for _, loss in loss_vs_lr_exponent_list ])\n",
    "\n",
    "plt.figure(figsize = (10, 8))\n",
    "plt.plot(x, y)\n",
    "# plt.xlim(0, 2e-1)"
   ]
  }
 ],
 "metadata": {
  "kernelspec": {
   "display_name": "ana-ml-py3",
   "language": "python",
   "name": "ana-py3"
  },
  "language_info": {
   "codemirror_mode": {
    "name": "ipython",
    "version": 3
   },
   "file_extension": ".py",
   "mimetype": "text/x-python",
   "name": "python",
   "nbconvert_exporter": "python",
   "pygments_lexer": "ipython3",
   "version": "3.7.9"
  }
 },
 "nbformat": 4,
 "nbformat_minor": 5
}
