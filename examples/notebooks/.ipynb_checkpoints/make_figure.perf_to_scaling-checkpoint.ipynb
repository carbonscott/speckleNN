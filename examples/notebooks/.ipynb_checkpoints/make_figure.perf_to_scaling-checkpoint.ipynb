{
 "cells": [
  {
   "cell_type": "code",
   "execution_count": null,
   "id": "c0525711-077b-46c8-8fd7-577a72b6f2ce",
   "metadata": {},
   "outputs": [],
   "source": [
    "# Run the notebook as if it's in the PROJECT directory\n",
    "%bookmark PROJ_ROOT /reg/data/ana03/scratch/cwang31/spi\n",
    "%cd -b PROJ_ROOT"
   ]
  },
  {
   "cell_type": "code",
   "execution_count": null,
   "id": "7bd0bff1-0a4a-4193-9e4a-0f42388cef98",
   "metadata": {},
   "outputs": [],
   "source": [
    "import numpy as np\n",
    "import pickle\n",
    "import os\n",
    "import torch\n",
    "from deepprojection.utils import ConfusionMatrix"
   ]
  },
  {
   "cell_type": "code",
   "execution_count": null,
   "id": "af575b57-7fa9-49da-832d-b09301564869",
   "metadata": {},
   "outputs": [],
   "source": [
    "import matplotlib.pyplot as plt\n",
    "import matplotlib.font_manager as font_manager\n",
    "import matplotlib.transforms as transforms\n",
    "%matplotlib inline"
   ]
  },
  {
   "cell_type": "code",
   "execution_count": null,
   "id": "21a396c6-e975-48a3-9291-dd67aac90e13",
   "metadata": {},
   "outputs": [],
   "source": [
    "def config_fonts():\n",
    "    # Where to load external font...\n",
    "    drc_py    = '.'\n",
    "    drc_font  = os.path.join(\"fonts\", \"Helvetica\")\n",
    "    fl_ttf    = f\"Helvetica.ttf\"\n",
    "    path_font = os.path.join(drc_py, drc_font, fl_ttf)\n",
    "    prop_font = font_manager.FontProperties( fname = path_font )\n",
    "\n",
    "    # Add Font and configure font properties\n",
    "    font_manager.fontManager.addfont(path_font)\n",
    "    prop_font = font_manager.FontProperties(fname = path_font)\n",
    "\n",
    "    # Specify fonts for pyplot...\n",
    "    plt.rcParams['font.family'] = prop_font.get_name()\n",
    "    plt.rcParams['font.size']   = 14\n",
    "\n",
    "    return None\n",
    "\n",
    "config_fonts()"
   ]
  },
  {
   "cell_type": "markdown",
   "id": "0e87deb5-8b95-45b4-b158-4a7fb8e89e2d",
   "metadata": {},
   "source": [
    "### Ensure no common PDB entries in training and test set"
   ]
  },
  {
   "cell_type": "code",
   "execution_count": null,
   "id": "7005d377-0f65-48ce-a186-2b6b80d7feda",
   "metadata": {},
   "outputs": [],
   "source": [
    "path_dat = 'skopi/h5s_mini.sq.train.dat'\n",
    "pdb_train_list = open(path_dat).readlines()\n",
    "pdb_train_list = [ pdb.strip() for pdb in pdb_train_list ]\n",
    "\n",
    "path_dat = 'skopi/h5s_mini.sq.test.corrected.dat'\n",
    "pdb_test_list = open(path_dat).readlines()\n",
    "pdb_test_list = [ pdb.strip() for pdb in pdb_test_list ]\n",
    "\n",
    "set(pdb_train_list).intersection(set(pdb_test_list))"
   ]
  },
  {
   "cell_type": "markdown",
   "id": "5c4bf65f-091d-4b14-9a3e-dac0e22c9388",
   "metadata": {},
   "source": [
    "### Load input and collect performance data for each scenario"
   ]
  },
  {
   "cell_type": "code",
   "execution_count": null,
   "id": "eb3305d8-f801-42a5-82ef-331691152298",
   "metadata": {},
   "outputs": [],
   "source": [
    "scenario_to_pdb_to_perf_dict = {}"
   ]
  },
  {
   "cell_type": "code",
   "execution_count": null,
   "id": "6a980d61-9f21-4b80-80fa-999f98222af1",
   "metadata": {},
   "outputs": [],
   "source": [
    "# # Applied shot to shot fluc before noise...\n",
    "# fl_pickle_dict = {\n",
    "#     '01-shot' : 'confusion_matrix.2023_0101_0856_44.epoch_71.seed_0.support_1.min.pickle',\n",
    "#     '05-shot' : 'confusion_matrix.2023_0101_0856_44.epoch_71.seed_0.support_5.min.pickle',\n",
    "#     '10-shot' : 'confusion_matrix.2023_0101_0856_44.epoch_71.seed_0.support_10.min.pickle',\n",
    "#     '15-shot' : 'confusion_matrix.2023_0101_0856_44.epoch_71.seed_0.support_15.min.pickle',\n",
    "#     '20-shot' : 'confusion_matrix.2023_0101_0856_44.epoch_71.seed_0.support_20.min.pickle',\n",
    "# }\n",
    "\n",
    "# # Applied shot to shot fluc before noise...\n",
    "# fl_pickle_dict = {\n",
    "#     '01-shot' : 'confusion_matrix.2023_0101_0856_44.epoch_71.seed_0.support_1.mean_dist.pickle',\n",
    "#     '05-shot' : 'confusion_matrix.2023_0101_0856_44.epoch_71.seed_0.support_5.mean_dist.pickle',\n",
    "#     '10-shot' : 'confusion_matrix.2023_0101_0856_44.epoch_71.seed_0.support_10.mean_dist.pickle',\n",
    "#     '15-shot' : 'confusion_matrix.2023_0101_0856_44.epoch_71.seed_0.support_15.mean_dist.pickle',\n",
    "#     '20-shot' : 'confusion_matrix.2023_0101_0856_44.epoch_71.seed_0.support_20.mean_dist.pickle',\n",
    "# }\n",
    "\n",
    "\n",
    "# Applied shot to shot fluc before noise...\n",
    "fl_pickle_dict = {\n",
    "    '01-shot' : '2023_0101_0856_44.epoch_71.seed_0.support_1.mean_dist.corrected.pickle',\n",
    "    '05-shot' : '2023_0101_0856_44.epoch_71.seed_0.support_5.mean_dist.corrected.pickle',\n",
    "    '10-shot' : '2023_0101_0856_44.epoch_71.seed_0.support_10.mean_dist.corrected.pickle',\n",
    "    '15-shot' : '2023_0101_0856_44.epoch_71.seed_0.support_15.mean_dist.corrected.pickle',\n",
    "    '20-shot' : '2023_0101_0856_44.epoch_71.seed_0.support_20.mean_dist.corrected.pickle',\n",
    "}\n",
    "\n",
    "drc_pickle = 'confusion_matrix'\n",
    "for scenario, fl_pickle in fl_pickle_dict.items():\n",
    "    path_pickle = os.path.join(drc_pickle, fl_pickle)\n",
    "    with open(path_pickle, 'rb') as handle:\n",
    "        pdb_to_perf_dict = pickle.load(handle)\n",
    "    \n",
    "    scenario_to_pdb_to_perf_dict[scenario] = pdb_to_perf_dict"
   ]
  },
  {
   "cell_type": "code",
   "execution_count": null,
   "id": "c7ed5aaf-6bb8-4ca8-aa91-5bc19bf11474",
   "metadata": {},
   "outputs": [],
   "source": [
    "scenario_to_acc_dict = {}\n",
    "scenario_to_f1_dict  = {}\n",
    "for scenario, pdb_to_perf_dict in scenario_to_pdb_to_perf_dict.items():\n",
    "    acc_list = []\n",
    "    f1_list  = []\n",
    "    for pdb in pdb_to_perf_dict.keys():\n",
    "        photon_list = [ perf[0] for perf in pdb_to_perf_dict[pdb] ]\n",
    "        cm_list = [ ConfusionMatrix(perf[1]).get_metrics(1) for perf in pdb_to_perf_dict[pdb] ]\n",
    "\n",
    "        x = photon_list\n",
    "        acc = [ cm[0] for cm in cm_list ]\n",
    "        acc_list.append(acc)\n",
    "        \n",
    "        f1  = [ cm[4] for cm in cm_list ]\n",
    "        f1_list.append(f1)\n",
    "    \n",
    "    scenario_to_acc_dict[scenario] = acc_list\n",
    "    scenario_to_f1_dict[scenario] = f1_list"
   ]
  },
  {
   "cell_type": "code",
   "execution_count": null,
   "id": "56b2e595-df4c-4891-9f75-b131e1f22461",
   "metadata": {},
   "outputs": [],
   "source": [
    "len(scenario_to_acc_dict['01-shot'])"
   ]
  },
  {
   "cell_type": "code",
   "execution_count": null,
   "id": "cbd7b63e-d643-4a34-9fb8-59110eeb820e",
   "metadata": {},
   "outputs": [],
   "source": [
    "# Define color schemes...\n",
    "rgb2hex = lambda r, g, b: '#%02x%02x%02x' % (r, g, b)\n",
    "\n",
    "scenario_to_color_dict = {\n",
    "    '01-shot' : rgb2hex( 78, 129, 183),\n",
    "    '05-shot' : rgb2hex(244, 148,  69),\n",
    "    '10-shot' : rgb2hex( 90, 164,  78),\n",
    "    '15-shot' : rgb2hex(195,  55,  43),\n",
    "    '20-shot' : rgb2hex(135,  97, 179),\n",
    "}"
   ]
  },
  {
   "cell_type": "code",
   "execution_count": null,
   "id": "4148abc6-acd0-48c1-bd18-d71ab5aa1281",
   "metadata": {},
   "outputs": [],
   "source": []
  },
  {
   "cell_type": "code",
   "execution_count": null,
   "id": "82300872-dcec-4da1-b2b4-cb06c427ded1",
   "metadata": {},
   "outputs": [],
   "source": [
    "nrows, ncols = 2, 1\n",
    "h, w = 6.1, 8.5\n",
    "fig = plt.figure(figsize = (w, h))\n",
    "\n",
    "gspec = fig.add_gridspec( nrows, ncols,\n",
    "                          width_ratios  = [1],\n",
    "                          height_ratios = [1, 1],\n",
    "                        )\n",
    "ax_list = [ fig.add_subplot(gspec[i, 0]) for i in range(nrows) ]\n",
    "\n",
    "# Upper panel - Accuracy...\n",
    "ax = ax_list[0]\n",
    "for scenario, acc_list in scenario_to_acc_dict.items():\n",
    "    \n",
    "    acc_list = np.asarray(acc_list)\n",
    "    \n",
    "    label = scenario.replace(\"0\", \"\") if scenario.startswith(\"0\") else scenario\n",
    "    ax.plot(photon_list, np.nanmean(acc_list, axis = 0), '-', color = scenario_to_color_dict[scenario], label = label)\n",
    "    # ax.set_title('Acc (single-hit)')\n",
    "    # ax.set_xlabel('Scaling exponent')\n",
    "    ax.set_ylabel('Accuracy')\n",
    "    ax.legend()\n",
    "    #ax.set_ylim((0.4, 1.0))\n",
    "    ax.set_xlim((-2.0, 2.0))\n",
    "    ax.set_yticks(np.arange(0.4, 1.0+0.1, 0.1))\n",
    "    # ax.axvline(x = 0, linestyle='--', color = 'gray', linewidth = 1)\n",
    "    # ax.axhline(y = 0.5, linestyle='--', color = 'gray', linewidth = 1)\n",
    "    ax.grid(True, linestyle = '--')\n",
    "    # ax.set_box_aspect((h/2)/(w))\n",
    "    \n",
    "    for ticklabel in ax.xaxis.get_ticklabels():\n",
    "        ticklabel.set_visible(False)\n",
    "\n",
    "\n",
    "    \n",
    "# Lower panel - F-1...\n",
    "ax = ax_list[1]\n",
    "for scenario, f1_list in scenario_to_f1_dict.items():\n",
    "    \n",
    "    f1_list = np.asarray(f1_list)\n",
    "    f1_list[f1_list == None] = np.nan\n",
    "    \n",
    "    label = scenario.replace(\"0\", \"\") if scenario.startswith(\"0\") else scenario\n",
    "    ax.plot(photon_list, np.nanmean(f1_list, axis = 0), '-', color = scenario_to_color_dict[scenario], label = scenario)\n",
    "    # ax.set_title('F-1 (single-hit)')\n",
    "    ax.set_xlabel('Scaling exponent')\n",
    "    ax.set_ylabel('F-1')\n",
    "    # ax.legend()\n",
    "    # ax.set_ylim((0.4, 1.0))\n",
    "    ax.set_xlim((-2.0, 2.0))\n",
    "    ax.set_yticks(np.arange(0.4, 1.0+0.1, 0.1))\n",
    "    # ax.axvline(x = 0, linestyle='--', color = 'gray', linewidth = 1)\n",
    "    # ax.axhline(y = 0.5, linestyle='--', color = 'gray', linewidth = 1)\n",
    "    ax.grid(True, linestyle = '--')\n",
    "    # ax.set_box_aspect((h/2)/(w))\n",
    "    \n",
    "# fig.subplots_adjust(\n",
    "# ## top=1-0.049,\n",
    "# ## bottom=0.049,\n",
    "# left=0.05,\n",
    "# right=0.05,\n",
    "# # hspace=0.1,\n",
    "# # wspace=0.1\n",
    "# )"
   ]
  },
  {
   "cell_type": "code",
   "execution_count": null,
   "id": "03b788db-1217-49f8-b6a9-c339bd64bdd0",
   "metadata": {
    "tags": []
   },
   "outputs": [],
   "source": [
    "# Define the filename...\n",
    "filename = 'Figure.perf_to_scaling.mean_dist'\n",
    "\n",
    "# Set up drc...\n",
    "DRCPDF         = \"pdfs\"\n",
    "drc_cwd        = os.getcwd()\n",
    "prefixpath_pdf = os.path.join(drc_cwd, DRCPDF)\n",
    "if not os.path.exists(prefixpath_pdf): os.makedirs(prefixpath_pdf)\n",
    "\n",
    "# Specify file...\n",
    "fl_pdf = f\"{filename}.pdf\"\n",
    "path_pdf = os.path.join(prefixpath_pdf, fl_pdf)\n",
    "\n",
    "# Export...\n",
    "## plt.savefig(path_pdf, dpi = 100, bbox_inches='tight', pad_inches = 0)\n",
    "fig.savefig(path_pdf, dpi = 300)"
   ]
  }
 ],
 "metadata": {
  "kernelspec": {
   "display_name": "ana-ml-py3",
   "language": "python",
   "name": "ana-py3"
  },
  "language_info": {
   "codemirror_mode": {
    "name": "ipython",
    "version": 3
   },
   "file_extension": ".py",
   "mimetype": "text/x-python",
   "name": "python",
   "nbconvert_exporter": "python",
   "pygments_lexer": "ipython3",
   "version": "3.7.9"
  }
 },
 "nbformat": 4,
 "nbformat_minor": 5
}
