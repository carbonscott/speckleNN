{
 "cells": [
  {
   "cell_type": "code",
   "execution_count": 1,
   "id": "d3daf302-9b4b-4808-8873-b3e768e9c5de",
   "metadata": {},
   "outputs": [
    {
     "name": "stdout",
     "output_type": "stream",
     "text": [
      "(bookmark:PROJ_ROOT) -> /reg/data/ana03/scratch/cwang31/spi\n",
      "/reg/data/ana03/scratch/cwang31/spi\n"
     ]
    }
   ],
   "source": [
    "# Run the notebook as if it's in the PROJECT directory\n",
    "%bookmark PROJ_ROOT /reg/data/ana03/scratch/cwang31/spi\n",
    "%cd -b PROJ_ROOT"
   ]
  },
  {
   "cell_type": "code",
   "execution_count": 2,
   "id": "ff464c23-bd3b-4c87-be4d-a976fd537991",
   "metadata": {},
   "outputs": [],
   "source": [
    "import os\n",
    "import matplotlib.pyplot as plt\n",
    "import matplotlib.font_manager as font_manager\n",
    "import matplotlib.transforms as transforms\n",
    "%matplotlib inline"
   ]
  },
  {
   "cell_type": "code",
   "execution_count": 3,
   "id": "8969d05e-f044-4935-b398-1f99394d2bf2",
   "metadata": {},
   "outputs": [],
   "source": [
    "def config_fonts():\n",
    "    # Where to load external font...\n",
    "    drc_py    = '.'\n",
    "    drc_font  = os.path.join(\"fonts\", \"Helvetica\")\n",
    "    fl_ttf    = f\"Helvetica.ttf\"\n",
    "    path_font = os.path.join(drc_py, drc_font, fl_ttf)\n",
    "    prop_font = font_manager.FontProperties( fname = path_font )\n",
    "\n",
    "    # Add Font and configure font properties\n",
    "    font_manager.fontManager.addfont(path_font)\n",
    "    prop_font = font_manager.FontProperties(fname = path_font)\n",
    "\n",
    "    # Specify fonts for pyplot...\n",
    "    plt.rcParams['font.family'] = prop_font.get_name()\n",
    "    plt.rcParams['font.size']   = 14\n",
    "\n",
    "    return None\n",
    "\n",
    "config_fonts()"
   ]
  },
  {
   "cell_type": "code",
   "execution_count": 4,
   "id": "e723cecc-f415-4cdc-bc73-fb2097d6c456",
   "metadata": {},
   "outputs": [],
   "source": [
    "drc_pickle = \"confusion_matrix\""
   ]
  },
  {
   "cell_type": "markdown",
   "id": "f51e870e-4637-47ba-a1db-44fba9b028c1",
   "metadata": {},
   "source": [
    "### Prerequisite: Load data, create dataset, load model, compute embeddings"
   ]
  },
  {
   "cell_type": "markdown",
   "id": "8db18a57-f935-4567-bcf1-ab237e30509c",
   "metadata": {},
   "source": [
    "You mostly would just need to change the `pdb` and `scaling_exponent` and see what happens.  Okay, in the visualization code block, you might also want to play with which image to query (`query_idx`).  Have fun!"
   ]
  },
  {
   "cell_type": "code",
   "execution_count": 5,
   "id": "8062d4e6-5132-4d28-a06a-4df067be1338",
   "metadata": {},
   "outputs": [
    {
     "name": "stderr",
     "output_type": "stream",
     "text": [
      "01/20/2023 16:47:50 INFO image_preprocess_faulty_sq_for_validate - ___/ Preprocess Settings \\___\n",
      "01/20/2023 16:47:50 INFO image_preprocess_faulty_sq_for_validate - Apply Poisson noise. \n",
      "01/20/2023 16:47:50 INFO image_preprocess_faulty_sq_for_validate - Apply Gaussian noise. sigma = 0.15.\n",
      "01/20/2023 16:47:50 INFO image_preprocess_faulty_sq_for_validate - TRANS : Apply cropping.\n",
      "01/20/2023 16:47:50 INFO image_preprocess_faulty_sq_for_validate - TRANS : Apply random rotation. angle = None, center = (48, 48).\n",
      "01/20/2023 16:47:50 INFO deepprojection.encoders.convnet     - ___/ Configure Encoder \\___\n",
      "01/20/2023 16:47:50 INFO deepprojection.encoders.convnet     - KV - dim_emb          : 128\n",
      "01/20/2023 16:47:50 INFO deepprojection.encoders.convnet     - KV - size_y           : 96\n",
      "01/20/2023 16:47:50 INFO deepprojection.encoders.convnet     - KV - size_x           : 96\n",
      "01/20/2023 16:47:50 INFO deepprojection.encoders.convnet     - KV - isbias           : True\n",
      "01/20/2023 16:47:50 INFO deepprojection.utils                - ___/ NEURAL NETWORK SHAPE \\___\n",
      "01/20/2023 16:47:50 INFO deepprojection.utils                - layer: 0, <class 'torch.nn.modules.conv.Conv2d'>\n",
      "01/20/2023 16:47:50 INFO deepprojection.utils                - in : 1, 96, 96\n",
      "01/20/2023 16:47:50 INFO deepprojection.utils                - out: 32, 92, 92\n",
      "01/20/2023 16:47:50 INFO deepprojection.utils                - \n",
      "01/20/2023 16:47:50 INFO deepprojection.utils                - layer: 3, <class 'torch.nn.modules.pooling.MaxPool2d'>\n",
      "01/20/2023 16:47:50 INFO deepprojection.utils                - in : 32, 92, 92\n",
      "01/20/2023 16:47:50 INFO deepprojection.utils                - out: 32, 46, 46\n",
      "01/20/2023 16:47:50 INFO deepprojection.utils                - \n",
      "01/20/2023 16:47:50 INFO deepprojection.utils                - layer: 4, <class 'torch.nn.modules.conv.Conv2d'>\n",
      "01/20/2023 16:47:50 INFO deepprojection.utils                - in : 32, 46, 46\n",
      "01/20/2023 16:47:50 INFO deepprojection.utils                - out: 64, 42, 42\n",
      "01/20/2023 16:47:50 INFO deepprojection.utils                - \n",
      "01/20/2023 16:47:50 INFO deepprojection.utils                - layer: 7, <class 'torch.nn.modules.pooling.MaxPool2d'>\n",
      "01/20/2023 16:47:50 INFO deepprojection.utils                - in : 64, 42, 42\n",
      "01/20/2023 16:47:50 INFO deepprojection.utils                - out: 64, 21, 21\n",
      "01/20/2023 16:47:50 INFO deepprojection.utils                - \n",
      "01/20/2023 16:47:50 INFO deepprojection.model                - ___/ Configure Siamese Model \\___\n",
      "01/20/2023 16:47:50 INFO deepprojection.model                - KV - alpha            : 0.02\n",
      "01/20/2023 16:47:50 INFO deepprojection.model                - KV - encoder          : FewShotModel(\n",
      "  (feature_extractor): Sequential(\n",
      "    (0): Conv2d(1, 32, kernel_size=(5, 5), stride=(1, 1))\n",
      "    (1): BatchNorm2d(32, eps=1e-05, momentum=0.1, affine=True, track_running_stats=True)\n",
      "    (2): PReLU(num_parameters=1)\n",
      "    (3): MaxPool2d(kernel_size=2, stride=2, padding=0, dilation=1, ceil_mode=False)\n",
      "    (4): Conv2d(32, 64, kernel_size=(5, 5), stride=(1, 1))\n",
      "    (5): BatchNorm2d(64, eps=1e-05, momentum=0.1, affine=True, track_running_stats=True)\n",
      "    (6): PReLU(num_parameters=1)\n",
      "    (7): MaxPool2d(kernel_size=2, stride=2, padding=0, dilation=1, ceil_mode=False)\n",
      "  )\n",
      "  (embed): Sequential(\n",
      "    (0): Linear(in_features=28224, out_features=512, bias=True)\n",
      "    (1): PReLU(num_parameters=1)\n",
      "    (2): Linear(in_features=512, out_features=128, bias=True)\n",
      "  )\n",
      ")\n"
     ]
    }
   ],
   "source": [
    "import os\n",
    "import logging\n",
    "import torch\n",
    "import socket\n",
    "import pickle\n",
    "import tqdm\n",
    "import random\n",
    "import numpy as np\n",
    "\n",
    "from deepprojection.datasets.lite    import SPIOnlineDataset\n",
    "from deepprojection.model            import OnlineTripletSiameseModel, ConfigSiameseModel\n",
    "from deepprojection.encoders.convnet import FewShotModel, ConfigEncoder\n",
    "from deepprojection.utils            import EpochManager, MetaLog, init_logger, split_dataset, set_seed, ConfusionMatrix\n",
    "\n",
    "from image_preprocess_faulty_sq_for_validate import DatasetPreprocess\n",
    "\n",
    "\n",
    "# [[[ SEED ]]]\n",
    "seed = 0\n",
    "set_seed(seed)\n",
    "\n",
    "\n",
    "# [[[ CONFIG ]]]\n",
    "# [USER] Choose a model \n",
    "timestamp       = \"2023_0101_0856_44\"\n",
    "epoch           = 71\n",
    "num_max_support = 5\n",
    "# num_max_support = 20\n",
    "tag             = f\"seed_{seed}.support_{num_max_support}\"\n",
    "\n",
    "# [USER] Select a pdb\n",
    "# pdb = '6N38'\n",
    "pdb = '4B2Q'\n",
    "# pdb = '6YN1'\n",
    "# pdb = '6WM3'\n",
    "# pdb = '3DG5'\n",
    "\n",
    "# [USER] Choose a scaling exponent\n",
    "# scaling_exponent = np.linspace(-2, 2, 100)[100 // 2 - 1]\n",
    "# scaling_exponent = 0.0\n",
    "scaling_exponent = 2.0\n",
    "\n",
    "\n",
    "fl_chkpt = f\"{timestamp}.epoch={epoch}.chkpt\"\n",
    "\n",
    "# Define the test set\n",
    "# [USER]\n",
    "size_sample_query = 1000\n",
    "frac_support      = 0.4\n",
    "size_batch        = 100\n",
    "trans             = None\n",
    "alpha             = 0.02\n",
    "\n",
    "# Initialize a log file...\n",
    "init_logger(log_name = 'validate.query.test', timestamp = timestamp, returns_timestamp = False, saves_log = False)\n",
    "\n",
    "\n",
    "# Set up the right device for the computation...\n",
    "device = torch.cuda.current_device() if torch.cuda.is_available() else 'cpu'\n",
    "\n",
    "\n",
    "# [[[ DATASET ]]]\n",
    "# Set up parameters for an experiment...\n",
    "drc_dataset  = 'fastdata.h5/'\n",
    "fl_dataset   = f'{pdb}.relabel.pickle'\n",
    "path_dataset = os.path.join(drc_dataset, fl_dataset)\n",
    "\n",
    "# Load raw data...\n",
    "with open(path_dataset, 'rb') as fh:\n",
    "    dataset_list = pickle.load(fh)\n",
    "\n",
    "# Increase the photon intensities...\n",
    "photon_scale = 10 ** scaling_exponent\n",
    "dataset_rescale_list = [ (img * photon_scale, label, metadata) for (img, label, metadata) in dataset_list ]\n",
    "\n",
    "# Split data into two -- support set and query set...\n",
    "data_support, data_query = split_dataset(dataset_rescale_list, frac_support, seed = None)\n",
    "\n",
    "# Fetch all hit labels...\n",
    "hit_list = list(set( [ hit for _, (pdb, hit), _ in data_support ] ))\n",
    "\n",
    "# Form support set...\n",
    "support_hit_to_idx_dict = { hit : [] for hit in hit_list }\n",
    "for enum_data, (img, label, metadata) in enumerate(data_support):\n",
    "    _, hit = label\n",
    "    support_hit_to_idx_dict[hit].append(enum_data)\n",
    "\n",
    "for hit, idx_support in support_hit_to_idx_dict.items():\n",
    "    if len(support_hit_to_idx_dict[hit]) > num_max_support:\n",
    "        support_hit_to_idx_dict[hit] = random.sample(support_hit_to_idx_dict[hit], k = num_max_support)\n",
    "\n",
    "# Form query dataset...\n",
    "dataset_query = SPIOnlineDataset( dataset_list   = data_query, \n",
    "                                  prints_cache_state = False,\n",
    "                                  size_sample    = size_sample_query,\n",
    "                                  joins_metadata = False,\n",
    "                                  trans          = trans, )\n",
    "\n",
    "\n",
    "# [[[ Preprocess dataset ]]]\n",
    "# Data preprocessing can be lengthy and defined in dataset_preprocess.py\n",
    "img_orig            = dataset_query[0][0][0]   # idx, fetch img\n",
    "dataset_preproc     = DatasetPreprocess(img_orig)\n",
    "trans               = dataset_preproc.config_trans()\n",
    "dataset_query.trans = trans\n",
    "img_trans           = dataset_query[0][0][0]\n",
    "\n",
    "# [[[ IMAGE ENCODER ]]]\n",
    "# Config the encoder...\n",
    "dim_emb        = 128\n",
    "size_y, size_x = img_trans.shape[-2:]\n",
    "config_encoder = ConfigEncoder( dim_emb = dim_emb,\n",
    "                                size_y  = size_y,\n",
    "                                size_x  = size_x,\n",
    "                                isbias  = True )\n",
    "encoder = FewShotModel(config_encoder)\n",
    "\n",
    "# [[[ DEVICE ]]]\n",
    "device = torch.cuda.current_device() if torch.cuda.is_available() else 'cpu'\n",
    "\n",
    "# [[[ MODEL ]]]\n",
    "# Config the model...\n",
    "config_siamese = ConfigSiameseModel( alpha = alpha, encoder = encoder, )\n",
    "model = OnlineTripletSiameseModel(config_siamese)\n",
    "model.init_params(fl_chkpt = fl_chkpt)\n",
    "model.to(device = device)\n",
    "\n",
    "set_seed(seed)\n",
    "\n",
    "dataset_query.cache_dataset()\n",
    "\n",
    "# [[[ EMBEDDING (SUPPORT) ]]]\n",
    "support_batch_emb_dict = { hit : None for hit in hit_list }\n",
    "for hit in hit_list:\n",
    "    support_idx_list    = support_hit_to_idx_dict[hit]\n",
    "    num_example_support = len(support_idx_list)\n",
    "    for enum_support_idx, support_idx in enumerate(support_idx_list):\n",
    "        # Fetch data from support...\n",
    "        img = data_support[support_idx][0]\n",
    "        img = trans(img)\n",
    "        img = img[None,]\n",
    "\n",
    "        # Normalize the image...\n",
    "        img = (img - img.mean()) / img.std()\n",
    "\n",
    "        # Preallocate tensor...\n",
    "        if enum_support_idx == 0:\n",
    "            size_c, size_y, size_x = img.shape\n",
    "            batch_img = torch.zeros((num_example_support, size_c, size_y, size_x))\n",
    "\n",
    "        # Save image as tensor...\n",
    "        batch_img[enum_support_idx] = torch.tensor(img)\n",
    "\n",
    "    with torch.no_grad():\n",
    "        batch_img = batch_img.to(device = device)\n",
    "        support_batch_emb_dict[hit] = model.encoder.encode(batch_img)\n",
    "\n",
    "# [[[ EMBEDDING (QUERY) ]]]\n",
    "num_test       = len(dataset_query)\n",
    "query_idx_list = range(num_test)\n",
    "for enum_query_idx, i in enumerate(query_idx_list):\n",
    "    # Fetch data from query\n",
    "    img = dataset_query[i][0]\n",
    "\n",
    "    # Preallocate tensor...\n",
    "    if enum_query_idx == 0:\n",
    "        size_c, size_y, size_x = img.shape\n",
    "        batch_img = torch.zeros((num_test, size_c, size_y, size_x))\n",
    "\n",
    "    # Save image as tensor...\n",
    "    batch_img[enum_query_idx] = torch.tensor(img)\n",
    "\n",
    "with torch.no_grad():\n",
    "    batch_img = batch_img.to(device = device)\n",
    "    query_batch_emb = model.encoder.encode(batch_img)\n",
    "\n",
    "\n",
    "# [[[ METRIC ]]]\n",
    "diff_query_support_dict = {}\n",
    "for hit in hit_list:\n",
    "    # Q: number of query examples.\n",
    "    # S: number of support examples\n",
    "    # E: dimension of an embedding\n",
    "    # diff_query_support_dict[hit]: Q x S x E\n",
    "    # query_batch_emb[:, None]    : Q x 1 x E\n",
    "    # support_batch_emb_dict[hit] :     S x E\n",
    "    diff_query_support_dict[hit] = query_batch_emb[:,None] - support_batch_emb_dict[hit]\n",
    "\n",
    "hit_to_dist_dict = {}\n",
    "for hit in hit_list:\n",
    "    # Q: number of query examples.\n",
    "    # S: number of support examples\n",
    "    # dist_dict[hit]: Q x S\n",
    "    hit_to_dist_dict[hit] = torch.sum(diff_query_support_dict[hit] * diff_query_support_dict[hit], dim = -1)"
   ]
  },
  {
   "cell_type": "markdown",
   "id": "53cc1d55-6f95-43d2-9d9d-2de40718baa4",
   "metadata": {},
   "source": [
    "### Visualize 5-shot learning"
   ]
  },
  {
   "cell_type": "code",
   "execution_count": 6,
   "id": "6b3d6465-f982-40fd-b73b-ec4a979ff81d",
   "metadata": {},
   "outputs": [],
   "source": [
    "seed = 0\n",
    "set_seed(seed)"
   ]
  },
  {
   "cell_type": "code",
   "execution_count": 7,
   "id": "c8b8ffb6-b593-4fbe-8464-b23a882f16a6",
   "metadata": {},
   "outputs": [
    {
     "data": {
      "text/plain": [
       "864"
      ]
     },
     "execution_count": 7,
     "metadata": {},
     "output_type": "execute_result"
    }
   ],
   "source": [
    "query_idx = random.choice(query_idx_list)\n",
    "query_idx"
   ]
  },
  {
   "cell_type": "code",
   "execution_count": null,
   "id": "87d5ee46-284c-4478-af36-85d79eb3efcf",
   "metadata": {},
   "outputs": [],
   "source": [
    "query_idx = 394 # 4B2Q\n"
   ]
  },
  {
   "cell_type": "code",
   "execution_count": 8,
   "id": "c2655959-d607-4354-bc35-49a2009de511",
   "metadata": {},
   "outputs": [],
   "source": [
    "encode_to_label_dict = {1 : \"Single-hit\", 2 : \"Multi-hit\"}"
   ]
  },
  {
   "cell_type": "code",
   "execution_count": 9,
   "id": "cbc99c57-cc36-4786-8f68-bd7cc54b1c29",
   "metadata": {},
   "outputs": [
    {
     "data": {
      "text/plain": [
       "2"
      ]
     },
     "execution_count": 9,
     "metadata": {},
     "output_type": "execute_result"
    }
   ],
   "source": [
    "encode = dataset_query[query_idx][1][1]\n",
    "label = encode_to_label_dict[encode]\n",
    "encode"
   ]
  },
  {
   "cell_type": "code",
   "execution_count": 10,
   "id": "e6a1caae-1af0-4851-a2fa-48945035bfcd",
   "metadata": {},
   "outputs": [],
   "source": [
    "img_query = dataset_query[query_idx][0][0]"
   ]
  },
  {
   "cell_type": "code",
   "execution_count": 11,
   "id": "1e24ab99-cdfd-46e6-89ab-014b9ea64883",
   "metadata": {},
   "outputs": [
    {
     "data": {
      "text/plain": [
       "dict_keys([1, 2])"
      ]
     },
     "execution_count": 11,
     "metadata": {},
     "output_type": "execute_result"
    }
   ],
   "source": [
    "hit_to_dist_dict.keys()"
   ]
  },
  {
   "cell_type": "code",
   "execution_count": 13,
   "id": "e2b86b17-9536-4cbb-8979-c68aa373b7b9",
   "metadata": {},
   "outputs": [
    {
     "data": {
      "text/plain": [
       "array([0.01238158, 0.02316129, 0.0514025 , 0.10154928, 0.05664619],\n",
       "      dtype=float32)"
      ]
     },
     "execution_count": 13,
     "metadata": {},
     "output_type": "execute_result"
    }
   ],
   "source": [
    "hit_to_dist_dict[1][query_idx].cpu().numpy()"
   ]
  },
  {
   "cell_type": "code",
   "execution_count": 14,
   "id": "b5682ce9-9888-4e4a-a542-6b7522e447e7",
   "metadata": {},
   "outputs": [],
   "source": [
    "with torch.no_grad():\n",
    "    batch_img = batch_img.to(device = device)\n",
    "    query_batch_emb = model.encoder.encode(batch_img)"
   ]
  },
  {
   "cell_type": "code",
   "execution_count": 15,
   "id": "ada7a585-c14d-4e0f-94c2-3eb2022ae5a2",
   "metadata": {},
   "outputs": [
    {
     "data": {
      "text/plain": [
       "dict_keys([1, 2])"
      ]
     },
     "execution_count": 15,
     "metadata": {},
     "output_type": "execute_result"
    }
   ],
   "source": [
    "support_hit_to_idx_dict.keys()"
   ]
  },
  {
   "cell_type": "code",
   "execution_count": 16,
   "id": "c78a3d21-791b-481f-9acb-eda4272a1fbe",
   "metadata": {},
   "outputs": [
    {
     "data": {
      "text/plain": [
       "([22, 3, 4, 17, 33], [30, 26, 39, 16, 10])"
      ]
     },
     "execution_count": 16,
     "metadata": {},
     "output_type": "execute_result"
    }
   ],
   "source": [
    "support_hit_to_idx_dict[1], support_hit_to_idx_dict[2]"
   ]
  },
  {
   "cell_type": "code",
   "execution_count": 19,
   "id": "d74ee279-7d8a-430e-974b-261693b4003a",
   "metadata": {},
   "outputs": [
    {
     "data": {
      "text/plain": [
       "Text(0, 1.0, '5-shot multi-hit ($\\\\bar{d}$= 0.12)')"
      ]
     },
     "execution_count": 19,
     "metadata": {},
     "output_type": "execute_result"
    },
    {
     "data": {
      "image/png": "[encoded data removed]",
      "text/plain": [
       "<Figure size 612x482.4 with 15 Axes>"
      ]
     },
     "metadata": {},
     "output_type": "display_data"
    }
   ],
   "source": [
    "nrows, ncols = 3, 5\n",
    "fig = plt.figure(figsize = (8.5, 6.7))\n",
    "# fig = plt.figure(figsize = (2 * 7.9, 2 * 4.7))\n",
    "\n",
    "gspec = fig.add_gridspec( nrows, ncols,\n",
    "                          width_ratios  = [1] * 5,\n",
    "                          height_ratios = [1] * 3,\n",
    "                        )\n",
    "ax_list = [ [ fig.add_subplot(gspec[i, j], box_aspect = 1) for j in range(ncols) ] for i in range(nrows) ]\n",
    "\n",
    "# Row 1, Col 1\n",
    "ax = ax_list[0][0]\n",
    "vmin = img_query.mean()\n",
    "vmax = img_query.mean() + 4 * img_query.std()\n",
    "ax.imshow(img_query, vmin = vmin, vmax = vmax)\n",
    "ax.set_xticks([])\n",
    "ax.set_yticks([])\n",
    "\n",
    "# Row 1, Col 2-5\n",
    "for j in range(1, ncols):\n",
    "    ax = ax_list[0][j]\n",
    "    ax.set_xticks([])\n",
    "    ax.set_yticks([])\n",
    "    ax.spines['top'].set_visible(False)\n",
    "    ax.spines['right'].set_visible(False)\n",
    "    ax.spines['bottom'].set_visible(False)\n",
    "    ax.spines['left'].set_visible(False)\n",
    "\n",
    "# Row 2, Col 1-5\n",
    "dist_list = hit_to_dist_dict[1][query_idx].cpu().numpy()\n",
    "for enum_idx, support_idx in enumerate(support_hit_to_idx_dict[1]):\n",
    "    ax = ax_list[1][enum_idx]\n",
    "    ax.set_xticks([])\n",
    "    ax.set_yticks([])\n",
    "    \n",
    "    # Fetch data from support...\n",
    "    img = data_support[support_idx][0]\n",
    "    img = trans(img)\n",
    "\n",
    "    # Normalize the image...\n",
    "    img = (img - img.mean()) / img.std()\n",
    "    \n",
    "    vmin = img.mean()\n",
    "    vmax = img.mean() + 4 * img.std()\n",
    "    ax.imshow(img, vmin = vmin, vmax = vmax)\n",
    "    \n",
    "    ax.text(0.03, 0.065, f\"{dist_list[enum_idx]:.2f}\", color = \"white\", \n",
    "                                             transform = ax.transAxes, \n",
    "                                             bbox = {\n",
    "                                                 \"facecolor\" : \"black\", \n",
    "                                                 \"edgecolor\" : \"None\", \n",
    "                                                 \"pad\"       : 1, \n",
    "                                                 \"alpha\"     : 0.75})\n",
    "\n",
    "    \n",
    "# Row 2, Col 1-5\n",
    "dist_list = hit_to_dist_dict[2][query_idx].cpu().numpy()\n",
    "for enum_idx, support_idx in enumerate(support_hit_to_idx_dict[2]):\n",
    "    ax = ax_list[2][enum_idx]\n",
    "    ax.set_xticks([])\n",
    "    ax.set_yticks([])\n",
    "    \n",
    "    # Fetch data from support...\n",
    "    img = data_support[support_idx][0]\n",
    "    img = trans(img)\n",
    "\n",
    "    # Normalize the image...\n",
    "    img = (img - img.mean()) / img.std()\n",
    "    \n",
    "    vmin = img.mean()\n",
    "    vmax = img.mean() + 4 * img.std()\n",
    "    ax.imshow(img, vmin = vmin, vmax = vmax)\n",
    "    \n",
    "    ax.text(0.03, 0.065, f\"{dist_list[enum_idx]:.2f}\", color = \"white\", \n",
    "                                             transform = ax.transAxes, \n",
    "                                             bbox = {\n",
    "                                                 \"facecolor\" : \"black\", \n",
    "                                                 \"edgecolor\" : \"None\", \n",
    "                                                 \"pad\"       : 1, \n",
    "                                                 \"alpha\"     : 0.75})\n",
    "\n",
    "offset = transforms.ScaledTranslation(0.0, 0.2, fig.dpi_scale_trans)\n",
    "ax = ax_list[0][0]\n",
    "ax.text(0, 1.0, f\"Query ({label})\", rotation = 0, transform = ax.transAxes + offset, )\n",
    "\n",
    "offset = transforms.ScaledTranslation(0.0, 0.2, fig.dpi_scale_trans)\n",
    "ax = ax_list[1][0]\n",
    "dist_list = hit_to_dist_dict[1][query_idx].cpu().numpy()\n",
    "ax.text(0, 1.0, r\"5-shot singlet-hit ($\\bar{d}$\" + f\"= {dist_list.mean():.2f})\", rotation = 0, transform = ax.transAxes + offset, )\n",
    "\n",
    "offset = transforms.ScaledTranslation(0.0, 0.2, fig.dpi_scale_trans)\n",
    "ax = ax_list[2][0]\n",
    "dist_list = hit_to_dist_dict[2][query_idx].cpu().numpy()\n",
    "ax.text(0, 1.0, r\"5-shot multi-hit ($\\bar{d}$\" + f\"= {dist_list.mean():.2f})\", rotation = 0, transform = ax.transAxes + offset, )"
   ]
  },
  {
   "cell_type": "code",
   "execution_count": null,
   "id": "c864977a-bc8a-4682-9eae-c0a4f83a219c",
   "metadata": {},
   "outputs": [],
   "source": [
    "# [USER] Define the filename...\n",
    "filename = f'Figure.viz_5_shot.{pdb}.scale_{photon_scale}'\n",
    "# filename = f'Figure.02.{pdb}'\n",
    "\n",
    "# Set up drc...\n",
    "DRCPDF         = \"pdfs\"\n",
    "drc_cwd        = os.getcwd()\n",
    "prefixpath_pdf = os.path.join(drc_cwd, DRCPDF)\n",
    "if not os.path.exists(prefixpath_pdf): os.makedirs(prefixpath_pdf)\n",
    "\n",
    "# Specify file...\n",
    "fl_pdf = f\"{filename}.pdf\"\n",
    "path_pdf = os.path.join(prefixpath_pdf, fl_pdf)\n",
    "\n",
    "# Export...\n",
    "## plt.savefig(path_pdf, dpi = 100, bbox_inches='tight', pad_inches = 0)\n",
    "fig.savefig(path_pdf, dpi = 300)"
   ]
  }
 ],
 "metadata": {
  "kernelspec": {
   "display_name": "ana-ml-py3",
   "language": "python",
   "name": "ana-py3"
  },
  "language_info": {
   "codemirror_mode": {
    "name": "ipython",
    "version": 3
   },
   "file_extension": ".py",
   "mimetype": "text/x-python",
   "name": "python",
   "nbconvert_exporter": "python",
   "pygments_lexer": "ipython3",
   "version": "3.7.9"
  }
 },
 "nbformat": 4,
 "nbformat_minor": 5
}
