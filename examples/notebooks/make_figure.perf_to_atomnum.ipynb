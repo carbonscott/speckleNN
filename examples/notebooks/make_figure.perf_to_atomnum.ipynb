{
 "cells": [
  {
   "cell_type": "code",
   "execution_count": 1,
   "id": "ecc082a9-3eaf-4c5d-b354-23f843da6008",
   "metadata": {},
   "outputs": [
    {
     "name": "stdout",
     "output_type": "stream",
     "text": [
      "(bookmark:PROJ_ROOT) -> /reg/data/ana03/scratch/cwang31/spi\n",
      "/reg/data/ana03/scratch/cwang31/spi\n"
     ]
    }
   ],
   "source": [
    "# Run the notebook as if it's in the PROJECT directory\n",
    "%bookmark PROJ_ROOT /reg/data/ana03/scratch/cwang31/spi\n",
    "%cd -b PROJ_ROOT"
   ]
  },
  {
   "cell_type": "code",
   "execution_count": 2,
   "id": "16801b57-fb93-4ae4-8c9a-31f6d7b7f23c",
   "metadata": {},
   "outputs": [],
   "source": [
    "import numpy as np\n",
    "import pickle\n",
    "import os\n",
    "import torch\n",
    "from deepprojection.utils import ConfusionMatrix"
   ]
  },
  {
   "cell_type": "code",
   "execution_count": 3,
   "id": "708a35c2-d3e0-40e6-bf03-eb85f9c72ce1",
   "metadata": {},
   "outputs": [],
   "source": [
    "import matplotlib.pyplot as plt\n",
    "import matplotlib.font_manager as font_manager\n",
    "import matplotlib.transforms as transforms\n",
    "%matplotlib inline"
   ]
  },
  {
   "cell_type": "code",
   "execution_count": 4,
   "id": "18ce1974-fc19-48c5-a0a7-6a1dd7535b62",
   "metadata": {},
   "outputs": [],
   "source": [
    "def config_fonts():\n",
    "    # Where to load external font...\n",
    "    drc_py    = '.'\n",
    "    drc_font  = os.path.join(\"fonts\", \"Helvetica\")\n",
    "    fl_ttf    = f\"Helvetica.ttf\"\n",
    "    path_font = os.path.join(drc_py, drc_font, fl_ttf)\n",
    "    prop_font = font_manager.FontProperties( fname = path_font )\n",
    "\n",
    "    # Add Font and configure font properties\n",
    "    font_manager.fontManager.addfont(path_font)\n",
    "    prop_font = font_manager.FontProperties(fname = path_font)\n",
    "\n",
    "    # Specify fonts for pyplot...\n",
    "    plt.rcParams['font.family'] = prop_font.get_name()\n",
    "    plt.rcParams['font.size']   = 14\n",
    "\n",
    "    return None\n",
    "\n",
    "config_fonts()"
   ]
  },
  {
   "cell_type": "code",
   "execution_count": 5,
   "id": "28a5fbf7-c63f-47b8-b941-5534e060923a",
   "metadata": {},
   "outputs": [],
   "source": [
    "drc_pickle = \"confusion_matrix\""
   ]
  },
  {
   "cell_type": "markdown",
   "id": "547b728f-4e76-43df-b173-8786cc7855d9",
   "metadata": {},
   "source": [
    "### Load input and collect performance data for each scenario"
   ]
  },
  {
   "cell_type": "code",
   "execution_count": 6,
   "id": "d22bd373-eb9e-4669-813d-c34376893cee",
   "metadata": {},
   "outputs": [],
   "source": [
    "scenario_to_pdb_to_perf_dict = {}"
   ]
  },
  {
   "cell_type": "code",
   "execution_count": 7,
   "id": "3a8e9a22-4b23-4c6b-bcc7-009cb4f7d8e5",
   "metadata": {},
   "outputs": [],
   "source": [
    "# # Applied shot to shot fluc before noise...\n",
    "# fl_pickle_dict = {\n",
    "#     '01-shot' : 'confusion_matrix.2023_0101_0856_44.epoch_71.seed_0.support_1.min.pickle',\n",
    "#     '05-shot' : 'confusion_matrix.2023_0101_0856_44.epoch_71.seed_0.support_5.min.pickle',\n",
    "#     '10-shot' : 'confusion_matrix.2023_0101_0856_44.epoch_71.seed_0.support_10.min.pickle',\n",
    "#     '15-shot' : 'confusion_matrix.2023_0101_0856_44.epoch_71.seed_0.support_15.min.pickle',\n",
    "#     '20-shot' : 'confusion_matrix.2023_0101_0856_44.epoch_71.seed_0.support_20.min.pickle',\n",
    "# }\n",
    "\n",
    "# # Applied shot to shot fluc before noise...\n",
    "# fl_pickle_dict = {\n",
    "#     '01-shot' : 'confusion_matrix.2023_0101_0856_44.epoch_71.seed_0.support_1.mean_dist.pickle',\n",
    "#     '05-shot' : 'confusion_matrix.2023_0101_0856_44.epoch_71.seed_0.support_5.mean_dist.pickle',\n",
    "#     '10-shot' : 'confusion_matrix.2023_0101_0856_44.epoch_71.seed_0.support_10.mean_dist.pickle',\n",
    "#     '15-shot' : 'confusion_matrix.2023_0101_0856_44.epoch_71.seed_0.support_15.mean_dist.pickle',\n",
    "#     '20-shot' : 'confusion_matrix.2023_0101_0856_44.epoch_71.seed_0.support_20.mean_dist.pickle',\n",
    "# }\n",
    "\n",
    "\n",
    "# Applied shot to shot fluc before noise...\n",
    "fl_pickle_dict = {\n",
    "    '01-shot' : '2023_0101_0856_44.epoch_71.seed_0.support_1.mean_dist.corrected.pickle',\n",
    "    '05-shot' : '2023_0101_0856_44.epoch_71.seed_0.support_5.mean_dist.corrected.pickle',\n",
    "    '10-shot' : '2023_0101_0856_44.epoch_71.seed_0.support_10.mean_dist.corrected.pickle',\n",
    "    '15-shot' : '2023_0101_0856_44.epoch_71.seed_0.support_15.mean_dist.corrected.pickle',\n",
    "    '20-shot' : '2023_0101_0856_44.epoch_71.seed_0.support_20.mean_dist.corrected.pickle',\n",
    "}\n",
    "\n",
    "drc_pickle = 'confusion_matrix'\n",
    "for scenario, fl_pickle in fl_pickle_dict.items():\n",
    "    path_pickle = os.path.join(drc_pickle, fl_pickle)\n",
    "    with open(path_pickle, 'rb') as handle:\n",
    "        pdb_to_perf_dict = pickle.load(handle)\n",
    "    \n",
    "    scenario_to_pdb_to_perf_dict[scenario] = pdb_to_perf_dict"
   ]
  },
  {
   "cell_type": "code",
   "execution_count": 8,
   "id": "01d45388-933d-4783-89d0-f36127e56dea",
   "metadata": {},
   "outputs": [],
   "source": [
    "scenario_to_acc_dict = {}\n",
    "scenario_to_f1_dict  = {}\n",
    "for scenario, pdb_to_perf_dict in scenario_to_pdb_to_perf_dict.items():\n",
    "    acc_list = []\n",
    "    f1_list  = []\n",
    "    for pdb in pdb_to_perf_dict.keys():\n",
    "        photon_list = [ perf[0] for perf in pdb_to_perf_dict[pdb] ]\n",
    "        cm_list = [ ConfusionMatrix(perf[1]).get_metrics(1) for perf in pdb_to_perf_dict[pdb] ]\n",
    "\n",
    "        x = photon_list\n",
    "        acc = [ cm[0] for cm in cm_list ]\n",
    "        acc_list.append(acc)\n",
    "        \n",
    "        f1  = [ cm[4] for cm in cm_list ]\n",
    "        f1_list.append(f1)\n",
    "    \n",
    "    scenario_to_acc_dict[scenario] = acc_list\n",
    "    scenario_to_f1_dict[scenario] = f1_list"
   ]
  },
  {
   "cell_type": "code",
   "execution_count": 9,
   "id": "b08be412-2bf4-44a2-8430-19ad948b7dc6",
   "metadata": {},
   "outputs": [],
   "source": [
    "# Read the PDB vs atom number data...\n",
    "fl_pdb_vs_atom = 'skopi/pdb_num.dat'\n",
    "pdb_to_atomnum_dict = {}\n",
    "with open(fl_pdb_vs_atom,'r') as fh:\n",
    "    for line in fh.readlines():\n",
    "        pdb, num = line.split()\n",
    "\n",
    "        pdb_to_atomnum_dict[pdb] = int(num)"
   ]
  },
  {
   "cell_type": "markdown",
   "id": "de9bfb46-df37-44b8-9c8a-ccd024490633",
   "metadata": {},
   "source": [
    "### Performance VS Atom number"
   ]
  },
  {
   "cell_type": "code",
   "execution_count": 10,
   "id": "06ea35ee-d03f-4cac-992f-ad095056c19a",
   "metadata": {},
   "outputs": [],
   "source": [
    "scenario = \"20-shot\""
   ]
  },
  {
   "cell_type": "code",
   "execution_count": 11,
   "id": "1f74c867-20f8-4aa3-bb70-cadfc6cfe8b1",
   "metadata": {},
   "outputs": [],
   "source": [
    "pdb_list = list(scenario_to_pdb_to_perf_dict[scenario].keys())"
   ]
  },
  {
   "cell_type": "code",
   "execution_count": 12,
   "id": "99204daf-0bd2-41b1-9adc-6b5ee9b49d4a",
   "metadata": {},
   "outputs": [],
   "source": [
    "# idx_scaling_exponent = 100 //2\n",
    "idx_scaling_exponent = 100\n",
    "scaling_exponent = 10 ** np.linspace(-2, 2, 100 + 1)"
   ]
  },
  {
   "cell_type": "code",
   "execution_count": 13,
   "id": "3df82158-76a1-4506-b26f-31ac44732890",
   "metadata": {},
   "outputs": [
    {
     "data": {
      "text/plain": [
       "<matplotlib.collections.PolyCollection at 0x7f56d3a83c10>"
      ]
     },
     "execution_count": 13,
     "metadata": {},
     "output_type": "execute_result"
    },
    {
     "data": {
      "image/png": "[encoded data removed]",
      "text/plain": [
       "<Figure size 612x439.2 with 2 Axes>"
      ]
     },
     "metadata": {
      "needs_background": "light"
     },
     "output_type": "display_data"
    }
   ],
   "source": [
    "nrows, ncols = 2, 1\n",
    "h, w = 6.1, 8.5\n",
    "fig = plt.figure(figsize = (w, h))\n",
    "\n",
    "gspec = fig.add_gridspec( nrows, ncols,\n",
    "                          width_ratios  = [1],\n",
    "                          height_ratios = [1, 1],\n",
    "                        )\n",
    "ax_list = [ fig.add_subplot(gspec[i, 0]) for i in range(nrows) ]\n",
    "\n",
    "######## DIVIDER#########\n",
    "ax = ax_list[0]\n",
    "acc_list = []\n",
    "num_list = []\n",
    "for enum_pdb, pdb in enumerate(pdb_list):\n",
    "    acc = scenario_to_acc_dict[scenario][enum_pdb][idx_scaling_exponent]\n",
    "    num = pdb_to_atomnum_dict[pdb]\n",
    "    \n",
    "    acc_list.append(acc)\n",
    "    num_list.append(num)\n",
    "ax.scatter(num_list, acc_list, color = 'white', marker = 'o', edgecolors = 'black')\n",
    "\n",
    "pdb_hard_list = ['3CW1', '3DG5', '6WM3', '4B2Q']\n",
    "idx_pdb_hard_list = [ pdb_list.index(pdb) for pdb in pdb_hard_list ]\n",
    "acc_pdb_hard_list = [ acc_list[idx] for idx in idx_pdb_hard_list ]\n",
    "num_pdb_hard_list = [ pdb_to_atomnum_dict[pdb] for pdb in pdb_hard_list ]\n",
    "\n",
    "ax.scatter(num_pdb_hard_list, acc_pdb_hard_list, color = 'black')\n",
    "ax.set_xscale('log', base = 10)\n",
    "ax.grid(True, axis = \"x\", linestyle = '--', which = \"both\")\n",
    "ax.set_axisbelow(True)\n",
    "# ax.set_box_aspect((h/2)/w)    # height/width\n",
    "ax.set_ylabel('Accuracy')\n",
    "ax.set_yticks(np.arange(0.4, 1.0+0.04, 0.2))\n",
    "ax.set_xlim([1e4 - 0.7e4, 1e5 + 0.5e5])\n",
    "ax.set_ylim([0.4, 1.04])\n",
    "\n",
    "for ticklabel in ax.xaxis.get_ticklabels():\n",
    "    ticklabel.set_visible(False)\n",
    "\n",
    "offset = transforms.ScaledTranslation(.1, -0.05, fig.dpi_scale_trans)\n",
    "for pdb in pdb_hard_list:\n",
    "    idx = pdb_list.index(pdb)\n",
    "    acc = acc_list[idx]\n",
    "    num = pdb_to_atomnum_dict[pdb]\n",
    "    ax.text(num, acc, pdb, transform = ax.transData + offset)\n",
    "\n",
    "ax.text(0.05, 0.8, fr\"{int(scaling_exponent[idx_scaling_exponent])}$ \\times $\", transform = ax.transAxes, bbox=dict(facecolor='black', alpha=0.1))\n",
    "\n",
    "# ax.fill_betweenx(y = np.linspace(0., 1.5), x1 = 4740,   x2 = 134454, alpha = 0.05, facecolor = 'green')\n",
    "# ax.fill_betweenx(y = np.linspace(0., 1.5), x1 = 0,      x2 = 4740,   alpha = 0.05, facecolor = 'red')\n",
    "# ax.fill_betweenx(y = np.linspace(0., 1.5), x1 = 134454, x2 = 1e6,    alpha = 0.05, facecolor = 'red')\n",
    "\n",
    "ax.fill_betweenx(y = np.linspace(0., 1.5), x1 = 0,      x2 = 4740,   alpha = 0.1, facecolor = 'gray')\n",
    "ax.fill_betweenx(y = np.linspace(0., 1.5), x1 = 134454, x2 = 1e6,    alpha = 0.1, facecolor = 'gray')\n",
    "\n",
    "\n",
    "######## DIVIDER#########\n",
    "ax = ax_list[1]\n",
    "f1_list = []\n",
    "num_list = []\n",
    "for enum_pdb, pdb in enumerate(pdb_list):\n",
    "    f1 = scenario_to_f1_dict[scenario][enum_pdb][idx_scaling_exponent]\n",
    "    num = pdb_to_atomnum_dict[pdb]\n",
    "    \n",
    "    f1_list.append(f1)\n",
    "    num_list.append(num)\n",
    "ax.scatter(num_list, f1_list, color = 'white', marker = 'o', edgecolors = 'black')\n",
    "\n",
    "\n",
    "pdb_hard_list = ['3CW1', '3DG5', '6WM3', '4B2Q']\n",
    "idx_pdb_hard_list = [ pdb_list.index(pdb) for pdb in pdb_hard_list ]\n",
    "f1_pdb_hard_list = [ f1_list[idx] for idx in idx_pdb_hard_list ]\n",
    "num_pdb_hard_list = [ pdb_to_atomnum_dict[pdb] for pdb in pdb_hard_list ]\n",
    "\n",
    "\n",
    "ax.scatter(num_pdb_hard_list, f1_pdb_hard_list, color = 'black')\n",
    "ax.set_xscale('log', base = 10)\n",
    "ax.grid(True, axis = \"x\", linestyle = '--', which = \"both\")\n",
    "ax.set_axisbelow(True)\n",
    "# ax.set_box_aspect((h/2)/w)    # height/width\n",
    "ax.set_ylabel('F-1')\n",
    "ax.set_xlabel('Atom number')\n",
    "ax.set_yticks(np.arange(0.0, 1.0+0.04, 0.2))\n",
    "ax.set_xlim([1e4 - 0.7e4, 1e5 + 0.5e5])\n",
    "ax.set_ylim([0., 1.04])\n",
    "\n",
    "offset = transforms.ScaledTranslation(.1, -0.05, fig.dpi_scale_trans)\n",
    "for pdb in pdb_hard_list:\n",
    "    idx = pdb_list.index(pdb)\n",
    "    f1  = f1_list[idx]\n",
    "    num = pdb_to_atomnum_dict[pdb]\n",
    "    ax.text(num, f1, pdb, transform = ax.transData + offset)\n",
    "    \n",
    "ax.text(0.05, 0.8, fr\"{int(scaling_exponent[idx_scaling_exponent])}$ \\times $\", transform = ax.transAxes, bbox=dict(facecolor='black', alpha=0.1))\n",
    "\n",
    "# ax.axvline(x = 4740)\n",
    "# ax.axvline(x = 134454)\n",
    "# ax.fill_betweenx(y = np.linspace(0., 1.5), x1 = 4740,   x2 = 134454, alpha = 0.05, facecolor = 'green')\n",
    "ax.fill_betweenx(y = np.linspace(0., 1.5), x1 = 0,      x2 = 4740,   alpha = 0.1, facecolor = 'gray')\n",
    "ax.fill_betweenx(y = np.linspace(0., 1.5), x1 = 134454, x2 = 1e6,    alpha = 0.1, facecolor = 'gray')"
   ]
  },
  {
   "cell_type": "code",
   "execution_count": null,
   "id": "893a5a26-0474-4a2a-b688-54c42652a6f6",
   "metadata": {
    "tags": []
   },
   "outputs": [],
   "source": [
    "# Define the filename...\n",
    "filename = f'Figure.perf_to_atomnum.idx_{idx_scaling_exponent}'\n",
    "\n",
    "# Set up drc...\n",
    "DRCPDF         = \"pdfs\"\n",
    "drc_cwd        = os.getcwd()\n",
    "prefixpath_pdf = os.path.join(drc_cwd, DRCPDF)\n",
    "if not os.path.exists(prefixpath_pdf): os.makedirs(prefixpath_pdf)\n",
    "\n",
    "# Specify file...\n",
    "fl_pdf = f\"{filename}.pdf\"\n",
    "path_pdf = os.path.join(prefixpath_pdf, fl_pdf)\n",
    "\n",
    "# Export...\n",
    "## plt.savefig(path_pdf, dpi = 100, bbox_inches='tight', pad_inches = 0)\n",
    "fig.savefig(path_pdf, dpi = 300)"
   ]
  },
  {
   "cell_type": "markdown",
   "id": "dfb0102c-5d71-4fdf-ae33-d7dfcb08a7aa",
   "metadata": {},
   "source": [
    "### A workaround (`wk`) approach when more PDB entires are used"
   ]
  },
  {
   "cell_type": "markdown",
   "id": "3d37709e-83ab-469d-a3af-e6852ea4ef11",
   "metadata": {},
   "source": [
    "WTF is the workaround about?  \n",
    "\n",
    "I conducted early experiments to understand the relation between performance and fluence.  100 PDB entries were used in the process and the fluence range was from $10^{-2}$ to $10^2$.  Now, however, what if I want to include more PDB entires without scanning through the fluence range, but only under a few fluence settings?  That's what this workaround solution is to rescue."
   ]
  },
  {
   "cell_type": "code",
   "execution_count": 14,
   "id": "89248686-7186-41ec-b4c1-6639652323a9",
   "metadata": {},
   "outputs": [],
   "source": [
    "max_num = 20\n",
    "# fl_wk_pickle = f'confusion_matrix.2023_0101_0856_44.epoch_71.support_{max_num}.mean_dist.bucket18.v3.pickle'\n",
    "fl_wk_pickle = f'confusion_matrix.2023_0101_0856_44.epoch_71.support_{max_num}.mean_dist.bucket02.v3.corrected.pickle'\n",
    "\n",
    "path_wk_pickle = os.path.join(drc_pickle, fl_wk_pickle)\n",
    "with open(path_wk_pickle, 'rb') as handle:\n",
    "    pdb_to_perf_wk_dict = pickle.load(handle)"
   ]
  },
  {
   "cell_type": "code",
   "execution_count": 15,
   "id": "f3f16bdb-7aa8-40ae-87c5-7ed2164229c0",
   "metadata": {},
   "outputs": [
    {
     "data": {
      "text/plain": [
       "82"
      ]
     },
     "execution_count": 15,
     "metadata": {},
     "output_type": "execute_result"
    }
   ],
   "source": [
    "len(pdb_to_perf_wk_dict)"
   ]
  },
  {
   "cell_type": "code",
   "execution_count": 16,
   "id": "e2e7e977-9086-4064-9bf0-edb1a9d190b1",
   "metadata": {},
   "outputs": [],
   "source": [
    "pdb_to_acc_wk_dict = {}\n",
    "pdb_to_f1_wk_dict  = {}\n",
    "\n",
    "for pdb in pdb_to_perf_wk_dict.keys():\n",
    "    photon_wk_list = [ perf[0] for perf in pdb_to_perf_wk_dict[pdb] ]\n",
    "    cm_list = [ ConfusionMatrix(perf[1]).get_metrics(1) for perf in pdb_to_perf_wk_dict[pdb] ]\n",
    "\n",
    "    x = photon_wk_list\n",
    "    acc = [ cm[0] for cm in cm_list ]\n",
    "    pdb_to_acc_wk_dict[pdb] = acc\n",
    "\n",
    "    f1 = [ cm[4] for cm in cm_list ]\n",
    "    pdb_to_f1_wk_dict[pdb]= f1"
   ]
  },
  {
   "cell_type": "code",
   "execution_count": 17,
   "id": "c9238612-0fe7-4dbe-952b-28139ffee5e2",
   "metadata": {},
   "outputs": [],
   "source": [
    "idx_scaling_exponent, idx_scheme = 100 //2, 0\n",
    "# idx_scaling_exponent, idx_scheme = 100, 1\n",
    "scaling_exponent = 10 ** np.linspace(-2, 2, 100 + 1)"
   ]
  },
  {
   "cell_type": "code",
   "execution_count": 18,
   "id": "6a1fd0cb-7149-4af1-bc5d-32938ff9b3b6",
   "metadata": {},
   "outputs": [
    {
     "data": {
      "text/plain": [
       "<matplotlib.collections.PathCollection at 0x7f56d376aa90>"
      ]
     },
     "execution_count": 18,
     "metadata": {},
     "output_type": "execute_result"
    },
    {
     "data": {
      "image/png": "[encoded data removed]",
      "text/plain": [
       "<Figure size 612x439.2 with 2 Axes>"
      ]
     },
     "metadata": {
      "needs_background": "light"
     },
     "output_type": "display_data"
    }
   ],
   "source": [
    "nrows, ncols = 2, 1\n",
    "h, w = 6.1, 8.5\n",
    "fig = plt.figure(figsize = (w, h))\n",
    "\n",
    "gspec = fig.add_gridspec( nrows, ncols,\n",
    "                          width_ratios  = [1],\n",
    "                          height_ratios = [1, 1],\n",
    "                        )\n",
    "ax_list = [ fig.add_subplot(gspec[i, 0]) for i in range(nrows) ]\n",
    "\n",
    "######## DIVIDER#########\n",
    "ax = ax_list[0]\n",
    "acc_list = []\n",
    "num_list = []\n",
    "for enum_pdb, pdb in enumerate(pdb_list):\n",
    "    acc = scenario_to_acc_dict[scenario][enum_pdb][idx_scaling_exponent]\n",
    "    num = pdb_to_atomnum_dict[pdb]\n",
    "    \n",
    "    acc_list.append(acc)\n",
    "    num_list.append(num)\n",
    "ax.scatter(num_list, acc_list, color = 'white', marker = 'o', edgecolors = 'black')\n",
    "\n",
    "# pdb_hard_list = ['3CW1', '3DG5', '6WM3', '4B2Q']\n",
    "# pdb_hard_list = ['6WM3', '4B2Q']\n",
    "pdb_hard_list = ['4B2Q']\n",
    "idx_pdb_hard_list = [ pdb_list.index(pdb) for pdb in pdb_hard_list ]\n",
    "acc_pdb_hard_list = [ acc_list[idx] for idx in idx_pdb_hard_list ]\n",
    "num_pdb_hard_list = [ pdb_to_atomnum_dict[pdb] for pdb in pdb_hard_list ]\n",
    "\n",
    "ax.scatter(num_pdb_hard_list, acc_pdb_hard_list, color = 'black')\n",
    "ax.set_xscale('log', base = 10)\n",
    "ax.grid(True, axis = \"x\", linestyle = '--', which = \"both\")\n",
    "ax.set_axisbelow(True)\n",
    "# ax.set_box_aspect((h/2)/w)    # height/width\n",
    "ax.set_ylabel('Accuracy')\n",
    "# ax.set_yticks(np.arange(0.4, 1.0+0.04, 0.2))\n",
    "ax.set_yticks(np.arange(0., 1.0+0.04, 0.2))\n",
    "ax.set_xlim([1e4 - 0.7e4, 2.5e6])\n",
    "ax.set_ylim([0.4, 1.04])\n",
    "# ax.set_ylim([0., 1.04])\n",
    "\n",
    "for ticklabel in ax.xaxis.get_ticklabels():\n",
    "    ticklabel.set_visible(False)\n",
    "\n",
    "offset = transforms.ScaledTranslation(.1, -0.1, fig.dpi_scale_trans)\n",
    "for pdb in pdb_hard_list:\n",
    "    idx = pdb_list.index(pdb)\n",
    "    acc = acc_list[idx]\n",
    "    num = pdb_to_atomnum_dict[pdb]\n",
    "    ax.text(num, acc, pdb, transform = ax.transData + offset)\n",
    "\n",
    "ax.text(0.05, 0.8, fr\"{int(scaling_exponent[idx_scaling_exponent])}$ \\times $\", transform = ax.transAxes, bbox=dict(facecolor='black', alpha=0.1))\n",
    "\n",
    "# ax.fill_betweenx(y = np.linspace(0., 1.5), x1 = 4740,   x2 = 134454, alpha = 0.05, facecolor = 'green')\n",
    "# ax.fill_betweenx(y = np.linspace(0., 1.5), x1 = 0,      x2 = 4740,   alpha = 0.05, facecolor = 'red')\n",
    "# ax.fill_betweenx(y = np.linspace(0., 1.5), x1 = 134454, x2 = 1e6,    alpha = 0.05, facecolor = 'red')\n",
    "\n",
    "ax.fill_betweenx(y = np.linspace(0., 1.5), x1 = 0,      x2 = 4740,   alpha = 0.1, facecolor = 'gray')\n",
    "ax.fill_betweenx(y = np.linspace(0., 1.5), x1 = 134454, x2 = 1e7,    alpha = 0.1, facecolor = 'gray')\n",
    "\n",
    "#### DIVIDER (WORKAROUND) #####\n",
    "num_list = [ pdb_to_atomnum_dict[pdb] for pdb, acc in pdb_to_acc_wk_dict.items() ]\n",
    "acc_list = [ acc[idx_scheme] for pdb, acc in pdb_to_acc_wk_dict.items() ]\n",
    "ax.scatter(num_list, acc_list, color = 'white', marker = 'o', edgecolors = 'black')\n",
    "# for pdb, (_, acc) in pdb_to_acc_wk_dict.items():\n",
    "#     num = pdb_to_atomnum_dict[pdb]\n",
    "#     ax.scatter(num, acc, color = 'white', marker = 'o', edgecolors = 'black')\n",
    "\n",
    "\n",
    "######## DIVIDER#########\n",
    "ax = ax_list[1]\n",
    "f1_list = []\n",
    "num_list = []\n",
    "for enum_pdb, pdb in enumerate(pdb_list):\n",
    "    f1 = scenario_to_f1_dict[scenario][enum_pdb][idx_scaling_exponent]\n",
    "    num = pdb_to_atomnum_dict[pdb]\n",
    "    \n",
    "    f1_list.append(f1)\n",
    "    num_list.append(num)\n",
    "ax.scatter(num_list, f1_list, color = 'white', marker = 'o', edgecolors = 'black')\n",
    "\n",
    "\n",
    "# pdb_hard_list = ['3CW1', '3DG5', '6WM3', '4B2Q']\n",
    "# pdb_hard_list = ['6WM3', '4B2Q']\n",
    "pdb_hard_list = ['4B2Q']\n",
    "idx_pdb_hard_list = [ pdb_list.index(pdb) for pdb in pdb_hard_list ]\n",
    "f1_pdb_hard_list = [ f1_list[idx] for idx in idx_pdb_hard_list ]\n",
    "num_pdb_hard_list = [ pdb_to_atomnum_dict[pdb] for pdb in pdb_hard_list ]\n",
    "\n",
    "\n",
    "ax.scatter(num_pdb_hard_list, f1_pdb_hard_list, color = 'black')\n",
    "ax.set_xscale('log', base = 10)\n",
    "ax.grid(True, axis = \"x\", linestyle = '--', which = \"both\")\n",
    "ax.set_axisbelow(True)\n",
    "# ax.set_box_aspect((h/2)/w)    # height/width\n",
    "ax.set_ylabel('F-1')\n",
    "ax.set_xlabel('Atom number')\n",
    "ax.set_yticks(np.arange(0.0, 1.0+0.04, 0.2))\n",
    "ax.set_xlim([1e4 - 0.7e4, 2.5e6])\n",
    "ax.set_ylim([0., 1.04])\n",
    "\n",
    "offset = transforms.ScaledTranslation(.1, -0.1, fig.dpi_scale_trans)\n",
    "for pdb in pdb_hard_list:\n",
    "    idx = pdb_list.index(pdb)\n",
    "    f1  = f1_list[idx]\n",
    "    num = pdb_to_atomnum_dict[pdb]\n",
    "    ax.text(num, f1, pdb, transform = ax.transData + offset)\n",
    "    \n",
    "ax.text(0.05, 0.8, fr\"{int(scaling_exponent[idx_scaling_exponent])}$ \\times $\", transform = ax.transAxes, bbox=dict(facecolor='black', alpha=0.1))\n",
    "\n",
    "# ax.axvline(x = 4740)\n",
    "# ax.axvline(x = 134454)\n",
    "# ax.fill_betweenx(y = np.linspace(0., 1.5), x1 = 4740,   x2 = 134454, alpha = 0.05, facecolor = 'green')\n",
    "ax.fill_betweenx(y = np.linspace(0., 1.5), x1 = 0,      x2 = 4740,   alpha = 0.1, facecolor = 'gray')\n",
    "ax.fill_betweenx(y = np.linspace(0., 1.5), x1 = 134454, x2 = 1e7,    alpha = 0.1, facecolor = 'gray')\n",
    "\n",
    "#### DIVIDER (WORKAROUND) #####\n",
    "num_list = [ pdb_to_atomnum_dict[pdb] for pdb, f1 in pdb_to_f1_wk_dict.items() ]\n",
    "f1_list  = [ f1[idx_scheme] for pdb, f1 in pdb_to_f1_wk_dict.items() ]\n",
    "ax.scatter(num_list, f1_list, color = 'white', marker = 'o', edgecolors = 'black')\n",
    "# for pdb, (_, f1) in pdb_to_f1_wk_dict.items():\n",
    "#     num = pdb_to_atomnum_dict[pdb]\n",
    "#     ax.scatter(num, f1, color = 'white', marker = 'o', edgecolors = 'black')"
   ]
  },
  {
   "cell_type": "code",
   "execution_count": null,
   "id": "15fb34ac-0e5b-4ef6-a9f6-b6d760369b0a",
   "metadata": {
    "tags": []
   },
   "outputs": [],
   "source": [
    "# Define the filename...\n",
    "filename = f'Figure.perf_to_atomnum.idx_{idx_scaling_exponent}.wk'\n",
    "\n",
    "# Set up drc...\n",
    "DRCPDF         = \"pdfs\"\n",
    "drc_cwd        = os.getcwd()\n",
    "prefixpath_pdf = os.path.join(drc_cwd, DRCPDF)\n",
    "if not os.path.exists(prefixpath_pdf): os.makedirs(prefixpath_pdf)\n",
    "\n",
    "# Specify file...\n",
    "fl_pdf = f\"{filename}.pdf\"\n",
    "path_pdf = os.path.join(prefixpath_pdf, fl_pdf)\n",
    "\n",
    "# Export...\n",
    "## plt.savefig(path_pdf, dpi = 100, bbox_inches='tight', pad_inches = 0)\n",
    "fig.savefig(path_pdf, dpi = 300)"
   ]
  }
 ],
 "metadata": {
  "kernelspec": {
   "display_name": "ana-ml-py3",
   "language": "python",
   "name": "ana-py3"
  },
  "language_info": {
   "codemirror_mode": {
    "name": "ipython",
    "version": 3
   },
   "file_extension": ".py",
   "mimetype": "text/x-python",
   "name": "python",
   "nbconvert_exporter": "python",
   "pygments_lexer": "ipython3",
   "version": "3.7.9"
  }
 },
 "nbformat": 4,
 "nbformat_minor": 5
}
